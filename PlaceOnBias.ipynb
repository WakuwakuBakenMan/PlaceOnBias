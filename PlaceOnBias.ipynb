{
 "cells": [
  {
   "cell_type": "markdown",
   "id": "hungarian-guarantee",
   "metadata": {},
   "source": [
    "# import"
   ]
  },
  {
   "cell_type": "code",
   "execution_count": 225,
   "id": "acting-disco",
   "metadata": {},
   "outputs": [],
   "source": [
    "import time\n",
    "import pandas as pd\n",
    "from urllib.request import urlopen\n",
    "from tqdm.notebook import tqdm\n",
    "import requests\n",
    "from bs4 import BeautifulSoup\n",
    "import re"
   ]
  },
  {
   "cell_type": "markdown",
   "id": "absolute-labor",
   "metadata": {},
   "source": [
    "# 出馬表からレース単位で馬IDを抜き出す"
   ]
  },
  {
   "cell_type": "code",
   "execution_count": 226,
   "id": "split-decimal",
   "metadata": {},
   "outputs": [],
   "source": [
    "def scrape_syutuba(race_id_list):\n",
    "    data = pd.DataFrame()\n",
    "    for race_id in tqdm(race_id_list):\n",
    "        time.sleep(1)\n",
    "        try:\n",
    "            url = 'https://race.netkeiba.com/race/shutuba.html?race_id=' + race_id\n",
    "\n",
    "            html = requests.get(url)\n",
    "            html.encoding = \"EUC-JP\"\n",
    "            soup = BeautifulSoup(html.text, \"html.parser\")\n",
    "\n",
    "            # horse_id\n",
    "            horse_td_list = soup.find_all(\"td\", attrs={'class': 'HorseInfo'})\n",
    "            dfs = pd.DataFrame()\n",
    "            for td in horse_td_list:\n",
    "                horse_id = re.findall(r'\\d+', td.find('a')['href'])[0]\n",
    "                record = pd.Series([horse_id])\n",
    "                dfs = dfs.append(record,ignore_index=True)\n",
    "\n",
    "            dfs.index = [race_id] * len(dfs)\n",
    "            data = data.append(dfs)\n",
    "        except:\n",
    "            break\n",
    "\n",
    "    return data"
   ]
  },
  {
   "cell_type": "markdown",
   "id": "public-catalyst",
   "metadata": {},
   "source": [
    "# 各馬IDから近走成績を取得し、展開バイアスの公式に当てはめてカウントを行う\n",
    "\n",
    "①近3走以内に全角4番手以内を2回以上通過した事がある馬→1でカウント\n",
    "②近3走以内に全角4番手以内を1回通過した事がある馬→0.5でカウント\n",
    "③近3走以内に全角4番手以内を通過した事がない馬→0でカウント（要するにカウントしない）\n",
    "④逃げ馬カウント（近3走以内に2回以上逃げた馬が1頭もいない場合→－1.5カウント／近3走以内に2回以上逃げた馬が1頭だけの場合→0カウント／近3走以内に2回以上逃げた馬が2頭以上いる場合→＋1.5カウント）"
   ]
  },
  {
   "cell_type": "code",
   "execution_count": 273,
   "id": "painful-phenomenon",
   "metadata": {},
   "outputs": [],
   "source": [
    "def scrape_horse(horse_id_list):\n",
    "    #逃げ馬頭数\n",
    "    nigeuma = 0\n",
    "    #展開バイアスカウント\n",
    "    PlcOnCnt = 0.0\n",
    "    #各馬情報取得\n",
    "    for horse_id in tqdm(horse_id_list):\n",
    "        time.sleep(1)\n",
    "        try:\n",
    "            url = 'https://db.netkeiba.com/horse/' + horse_id\n",
    "            df = pd.read_html(url)[3]\n",
    "            #受賞歴がある馬の場合4番目のデータを取得する\n",
    "            if df.columns[0]=='受賞歴':\n",
    "                df = pd.read_html(url)[4]\n",
    "                \n",
    "            required_columns = {'通過'}\n",
    "            if not required_columns <= set(df.columns):\n",
    "                continue\n",
    "            \n",
    "            #各馬近走３レース分のみ取得\n",
    "            cnt = 0\n",
    "            #全コーナー４番手以内回数\n",
    "            Allpas4cnt = 0\n",
    "            for passages in df['通過']:\n",
    "                # 出走取消等は除外\n",
    "                if type(passages) != str:\n",
    "                    continue\n",
    "\n",
    "                passage = passages.split('-')\n",
    "                #コーナー４番手以内フラグをONにする\n",
    "                Allpas4flg = True\n",
    "                for pas in passage:\n",
    "                    #５番手以降\n",
    "                    if int(pas) > 4:\n",
    "                        Allpas4flg = False\n",
    "                        break\n",
    "                        \n",
    "                if Allpas4flg == True:\n",
    "                    Allpas4cnt = Allpas4cnt + 1\n",
    "                \n",
    "                cnt = cnt + 1\n",
    "                if cnt >= 3:\n",
    "                    break\n",
    "            \n",
    "            #全コーナー４番手以内回数が２以上なら\n",
    "            if Allpas4cnt >= 2:\n",
    "                PlcOnCnt = PlcOnCnt + 1\n",
    "                nigeuma = nigeuma + 1\n",
    "            #全コーナー４番手以内回数が１なら\n",
    "            elif Allpas4cnt == 1:\n",
    "                PlcOnCnt = PlcOnCnt + 0.5\n",
    "                \n",
    "        except IndexError:\n",
    "            continue\n",
    "        except Exception as e:\n",
    "            print(e)\n",
    "            break\n",
    "        except:\n",
    "            break\n",
    "\n",
    "    #逃げ馬の数で最終調整\n",
    "    if nigeuma == 0:\n",
    "        PlcOnCnt = PlcOnCnt - 1.5\n",
    "    elif nigeuma >= 2:\n",
    "        PlcOnCnt = PlcOnCnt + 1.5\n",
    "\n",
    "    return PlcOnCnt"
   ]
  },
  {
   "cell_type": "markdown",
   "id": "compatible-queensland",
   "metadata": {},
   "source": [
    "# レースIDリスト作成"
   ]
  },
  {
   "cell_type": "code",
   "execution_count": 267,
   "id": "moderate-franklin",
   "metadata": {},
   "outputs": [],
   "source": [
    "year = 2021\n",
    "course_list = [5,7,4]\n",
    "kai_list = [2,3,2]\n",
    "day_list = [10,6,6]\n",
    "racenum = 12\n",
    "race_id_list = []\n",
    "\n",
    "for i in range(0,len(course_list),1):\n",
    "    for race in range(0,racenum,1): \n",
    "        race_id = str(year).zfill(4) + str(course_list[i]).zfill(2) + str(kai_list[i]).zfill(2) + str(day_list[i]).zfill(2) +str(race+1).zfill(2)\n",
    "        race_id_list.append(race_id)"
   ]
  },
  {
   "cell_type": "markdown",
   "id": "dirty-campbell",
   "metadata": {},
   "source": [
    "# 出馬表スクレイピング"
   ]
  },
  {
   "cell_type": "code",
   "execution_count": 268,
   "id": "choice-principal",
   "metadata": {},
   "outputs": [
    {
     "data": {
      "application/vnd.jupyter.widget-view+json": {
       "model_id": "3716d6d029824751bf3992972edc0f31",
       "version_major": 2,
       "version_minor": 0
      },
      "text/plain": [
       "  0%|          | 0/36 [00:00<?, ?it/s]"
      ]
     },
     "metadata": {},
     "output_type": "display_data"
    }
   ],
   "source": [
    "syutuba_list = scrape_syutuba(race_id_list)"
   ]
  },
  {
   "cell_type": "code",
   "execution_count": 269,
   "id": "radical-password",
   "metadata": {},
   "outputs": [
    {
     "data": {
      "text/html": [
       "<div>\n",
       "<style scoped>\n",
       "    .dataframe tbody tr th:only-of-type {\n",
       "        vertical-align: middle;\n",
       "    }\n",
       "\n",
       "    .dataframe tbody tr th {\n",
       "        vertical-align: top;\n",
       "    }\n",
       "\n",
       "    .dataframe thead th {\n",
       "        text-align: right;\n",
       "    }\n",
       "</style>\n",
       "<table border=\"1\" class=\"dataframe\">\n",
       "  <thead>\n",
       "    <tr style=\"text-align: right;\">\n",
       "      <th></th>\n",
       "      <th>0</th>\n",
       "    </tr>\n",
       "  </thead>\n",
       "  <tbody>\n",
       "    <tr>\n",
       "      <th>202105021001</th>\n",
       "      <td>2018100892</td>\n",
       "    </tr>\n",
       "    <tr>\n",
       "      <th>202105021001</th>\n",
       "      <td>2018101711</td>\n",
       "    </tr>\n",
       "    <tr>\n",
       "      <th>202105021001</th>\n",
       "      <td>2018106433</td>\n",
       "    </tr>\n",
       "    <tr>\n",
       "      <th>202105021001</th>\n",
       "      <td>2018105603</td>\n",
       "    </tr>\n",
       "    <tr>\n",
       "      <th>202105021001</th>\n",
       "      <td>2018100168</td>\n",
       "    </tr>\n",
       "    <tr>\n",
       "      <th>...</th>\n",
       "      <td>...</td>\n",
       "    </tr>\n",
       "    <tr>\n",
       "      <th>202104020612</th>\n",
       "      <td>2016101560</td>\n",
       "    </tr>\n",
       "    <tr>\n",
       "      <th>202104020612</th>\n",
       "      <td>2016103900</td>\n",
       "    </tr>\n",
       "    <tr>\n",
       "      <th>202104020612</th>\n",
       "      <td>2016101264</td>\n",
       "    </tr>\n",
       "    <tr>\n",
       "      <th>202104020612</th>\n",
       "      <td>2017101363</td>\n",
       "    </tr>\n",
       "    <tr>\n",
       "      <th>202104020612</th>\n",
       "      <td>2017102234</td>\n",
       "    </tr>\n",
       "  </tbody>\n",
       "</table>\n",
       "<p>523 rows × 1 columns</p>\n",
       "</div>"
      ],
      "text/plain": [
       "                       0\n",
       "202105021001  2018100892\n",
       "202105021001  2018101711\n",
       "202105021001  2018106433\n",
       "202105021001  2018105603\n",
       "202105021001  2018100168\n",
       "...                  ...\n",
       "202104020612  2016101560\n",
       "202104020612  2016103900\n",
       "202104020612  2016101264\n",
       "202104020612  2017101363\n",
       "202104020612  2017102234\n",
       "\n",
       "[523 rows x 1 columns]"
      ]
     },
     "execution_count": 269,
     "metadata": {},
     "output_type": "execute_result"
    }
   ],
   "source": [
    "syutuba_list"
   ]
  },
  {
   "cell_type": "markdown",
   "id": "addressed-detector",
   "metadata": {},
   "source": [
    "# 各馬成績スクレイピング　＆　展開バイアス算出"
   ]
  },
  {
   "cell_type": "code",
   "execution_count": 274,
   "id": "recorded-reliance",
   "metadata": {},
   "outputs": [
    {
     "name": "stdout",
     "output_type": "stream",
     "text": [
      "202105021001取得中・・・\n"
     ]
    },
    {
     "data": {
      "application/vnd.jupyter.widget-view+json": {
       "model_id": "70c76f869be44df287579347fca03814",
       "version_major": 2,
       "version_minor": 0
      },
      "text/plain": [
       "  0%|          | 0/16 [00:00<?, ?it/s]"
      ]
     },
     "metadata": {},
     "output_type": "display_data"
    },
    {
     "name": "stdout",
     "output_type": "stream",
     "text": [
      "カウント完了5.0\n",
      "202105021002取得中・・・\n"
     ]
    },
    {
     "data": {
      "application/vnd.jupyter.widget-view+json": {
       "model_id": "be244ac20c50427586c15e0a583ddfd8",
       "version_major": 2,
       "version_minor": 0
      },
      "text/plain": [
       "  0%|          | 0/16 [00:00<?, ?it/s]"
      ]
     },
     "metadata": {},
     "output_type": "display_data"
    },
    {
     "name": "stdout",
     "output_type": "stream",
     "text": [
      "カウント完了5.5\n",
      "202105021003取得中・・・\n"
     ]
    },
    {
     "data": {
      "application/vnd.jupyter.widget-view+json": {
       "model_id": "73ef989d6aa14dafaadcb6d97913f6af",
       "version_major": 2,
       "version_minor": 0
      },
      "text/plain": [
       "  0%|          | 0/18 [00:00<?, ?it/s]"
      ]
     },
     "metadata": {},
     "output_type": "display_data"
    },
    {
     "name": "stdout",
     "output_type": "stream",
     "text": [
      "カウント完了9.5\n",
      "202105021004取得中・・・\n"
     ]
    },
    {
     "data": {
      "application/vnd.jupyter.widget-view+json": {
       "model_id": "87588b5a567646c28d7dd178d09be180",
       "version_major": 2,
       "version_minor": 0
      },
      "text/plain": [
       "  0%|          | 0/14 [00:00<?, ?it/s]"
      ]
     },
     "metadata": {},
     "output_type": "display_data"
    },
    {
     "name": "stdout",
     "output_type": "stream",
     "text": [
      "カウント完了0.5\n",
      "202105021005取得中・・・\n"
     ]
    },
    {
     "data": {
      "application/vnd.jupyter.widget-view+json": {
       "model_id": "5affcd3bd5174b3e85f913cd3c71c63f",
       "version_major": 2,
       "version_minor": 0
      },
      "text/plain": [
       "  0%|          | 0/16 [00:00<?, ?it/s]"
      ]
     },
     "metadata": {},
     "output_type": "display_data"
    },
    {
     "name": "stdout",
     "output_type": "stream",
     "text": [
      "カウント完了9.5\n",
      "202105021006取得中・・・\n"
     ]
    },
    {
     "data": {
      "application/vnd.jupyter.widget-view+json": {
       "model_id": "5131b1de5f2a41428825572fea9987fd",
       "version_major": 2,
       "version_minor": 0
      },
      "text/plain": [
       "  0%|          | 0/13 [00:00<?, ?it/s]"
      ]
     },
     "metadata": {},
     "output_type": "display_data"
    },
    {
     "name": "stdout",
     "output_type": "stream",
     "text": [
      "カウント完了1.5\n",
      "202105021007取得中・・・\n"
     ]
    },
    {
     "data": {
      "application/vnd.jupyter.widget-view+json": {
       "model_id": "e6d851d19a3e4328a0d972478acac01f",
       "version_major": 2,
       "version_minor": 0
      },
      "text/plain": [
       "  0%|          | 0/14 [00:00<?, ?it/s]"
      ]
     },
     "metadata": {},
     "output_type": "display_data"
    },
    {
     "name": "stdout",
     "output_type": "stream",
     "text": [
      "カウント完了7.5\n",
      "202105021008取得中・・・\n"
     ]
    },
    {
     "data": {
      "application/vnd.jupyter.widget-view+json": {
       "model_id": "377ba329a46e4bdfabc2a8443c6f5dea",
       "version_major": 2,
       "version_minor": 0
      },
      "text/plain": [
       "  0%|          | 0/11 [00:00<?, ?it/s]"
      ]
     },
     "metadata": {},
     "output_type": "display_data"
    },
    {
     "name": "stdout",
     "output_type": "stream",
     "text": [
      "カウント完了2.5\n",
      "202105021009取得中・・・\n"
     ]
    },
    {
     "data": {
      "application/vnd.jupyter.widget-view+json": {
       "model_id": "8b3dce5892224daba09e39969f71d163",
       "version_major": 2,
       "version_minor": 0
      },
      "text/plain": [
       "  0%|          | 0/10 [00:00<?, ?it/s]"
      ]
     },
     "metadata": {},
     "output_type": "display_data"
    },
    {
     "name": "stdout",
     "output_type": "stream",
     "text": [
      "カウント完了6.5\n",
      "202105021010取得中・・・\n"
     ]
    },
    {
     "data": {
      "application/vnd.jupyter.widget-view+json": {
       "model_id": "9ad72ed96d624337a0b2bced90d018f2",
       "version_major": 2,
       "version_minor": 0
      },
      "text/plain": [
       "  0%|          | 0/18 [00:00<?, ?it/s]"
      ]
     },
     "metadata": {},
     "output_type": "display_data"
    },
    {
     "name": "stdout",
     "output_type": "stream",
     "text": [
      "カウント完了9.0\n",
      "202105021011取得中・・・\n"
     ]
    },
    {
     "data": {
      "application/vnd.jupyter.widget-view+json": {
       "model_id": "53712276bcca46f183a4bef18f163264",
       "version_major": 2,
       "version_minor": 0
      },
      "text/plain": [
       "  0%|          | 0/18 [00:00<?, ?it/s]"
      ]
     },
     "metadata": {},
     "output_type": "display_data"
    },
    {
     "name": "stdout",
     "output_type": "stream",
     "text": [
      "カウント完了4.5\n",
      "202105021012取得中・・・\n"
     ]
    },
    {
     "data": {
      "application/vnd.jupyter.widget-view+json": {
       "model_id": "cae6c413ab384dcc8f330a7c043820c4",
       "version_major": 2,
       "version_minor": 0
      },
      "text/plain": [
       "  0%|          | 0/16 [00:00<?, ?it/s]"
      ]
     },
     "metadata": {},
     "output_type": "display_data"
    },
    {
     "name": "stdout",
     "output_type": "stream",
     "text": [
      "カウント完了5.5\n",
      "202107030601取得中・・・\n"
     ]
    },
    {
     "data": {
      "application/vnd.jupyter.widget-view+json": {
       "model_id": "db0b91fc716445c1ac165e6b3f788030",
       "version_major": 2,
       "version_minor": 0
      },
      "text/plain": [
       "  0%|          | 0/16 [00:00<?, ?it/s]"
      ]
     },
     "metadata": {},
     "output_type": "display_data"
    },
    {
     "name": "stdout",
     "output_type": "stream",
     "text": [
      "カウント完了6.0\n",
      "202107030602取得中・・・\n"
     ]
    },
    {
     "data": {
      "application/vnd.jupyter.widget-view+json": {
       "model_id": "4fef7423921c45d3b3f09f422fa9307e",
       "version_major": 2,
       "version_minor": 0
      },
      "text/plain": [
       "  0%|          | 0/16 [00:00<?, ?it/s]"
      ]
     },
     "metadata": {},
     "output_type": "display_data"
    },
    {
     "name": "stdout",
     "output_type": "stream",
     "text": [
      "カウント完了9.0\n",
      "202107030603取得中・・・\n"
     ]
    },
    {
     "data": {
      "application/vnd.jupyter.widget-view+json": {
       "model_id": "4f40d9dacd2146dab0481e2d374db6f9",
       "version_major": 2,
       "version_minor": 0
      },
      "text/plain": [
       "  0%|          | 0/16 [00:00<?, ?it/s]"
      ]
     },
     "metadata": {},
     "output_type": "display_data"
    },
    {
     "name": "stdout",
     "output_type": "stream",
     "text": [
      "カウント完了7.0\n",
      "202107030604取得中・・・\n"
     ]
    },
    {
     "data": {
      "application/vnd.jupyter.widget-view+json": {
       "model_id": "db1920bfe51e437db403ef5e8f14e927",
       "version_major": 2,
       "version_minor": 0
      },
      "text/plain": [
       "  0%|          | 0/16 [00:00<?, ?it/s]"
      ]
     },
     "metadata": {},
     "output_type": "display_data"
    },
    {
     "name": "stdout",
     "output_type": "stream",
     "text": [
      "カウント完了6.0\n",
      "202107030605取得中・・・\n"
     ]
    },
    {
     "data": {
      "application/vnd.jupyter.widget-view+json": {
       "model_id": "5eb9fdbe152e48aa9826231161b798f4",
       "version_major": 2,
       "version_minor": 0
      },
      "text/plain": [
       "  0%|          | 0/15 [00:00<?, ?it/s]"
      ]
     },
     "metadata": {},
     "output_type": "display_data"
    },
    {
     "name": "stdout",
     "output_type": "stream",
     "text": [
      "カウント完了1.5\n",
      "202107030606取得中・・・\n"
     ]
    },
    {
     "data": {
      "application/vnd.jupyter.widget-view+json": {
       "model_id": "ee5809448dcc40039f6f6e1ff7d1136d",
       "version_major": 2,
       "version_minor": 0
      },
      "text/plain": [
       "  0%|          | 0/8 [00:00<?, ?it/s]"
      ]
     },
     "metadata": {},
     "output_type": "display_data"
    },
    {
     "name": "stdout",
     "output_type": "stream",
     "text": [
      "カウント完了5.5\n",
      "202107030607取得中・・・\n"
     ]
    },
    {
     "data": {
      "application/vnd.jupyter.widget-view+json": {
       "model_id": "8a11e1f6ead044d7ac0b5fbf9b14b203",
       "version_major": 2,
       "version_minor": 0
      },
      "text/plain": [
       "  0%|          | 0/14 [00:00<?, ?it/s]"
      ]
     },
     "metadata": {},
     "output_type": "display_data"
    },
    {
     "name": "stdout",
     "output_type": "stream",
     "text": [
      "カウント完了5.0\n",
      "202107030608取得中・・・\n"
     ]
    },
    {
     "data": {
      "application/vnd.jupyter.widget-view+json": {
       "model_id": "2c232d2b346b4df0bd902bf270316df1",
       "version_major": 2,
       "version_minor": 0
      },
      "text/plain": [
       "  0%|          | 0/13 [00:00<?, ?it/s]"
      ]
     },
     "metadata": {},
     "output_type": "display_data"
    },
    {
     "name": "stdout",
     "output_type": "stream",
     "text": [
      "カウント完了7.0\n",
      "202107030609取得中・・・\n"
     ]
    },
    {
     "data": {
      "application/vnd.jupyter.widget-view+json": {
       "model_id": "f198d58cfd5d4fdd85d31916d0eec4f1",
       "version_major": 2,
       "version_minor": 0
      },
      "text/plain": [
       "  0%|          | 0/12 [00:00<?, ?it/s]"
      ]
     },
     "metadata": {},
     "output_type": "display_data"
    },
    {
     "name": "stdout",
     "output_type": "stream",
     "text": [
      "カウント完了7.0\n",
      "202107030610取得中・・・\n"
     ]
    },
    {
     "data": {
      "application/vnd.jupyter.widget-view+json": {
       "model_id": "8b512b915f834eafa819d704c19cf3ff",
       "version_major": 2,
       "version_minor": 0
      },
      "text/plain": [
       "  0%|          | 0/12 [00:00<?, ?it/s]"
      ]
     },
     "metadata": {},
     "output_type": "display_data"
    },
    {
     "name": "stdout",
     "output_type": "stream",
     "text": [
      "カウント完了6.5\n",
      "202107030611取得中・・・\n"
     ]
    },
    {
     "data": {
      "application/vnd.jupyter.widget-view+json": {
       "model_id": "b7e17ef5e9294fbb9ccc7e22236145be",
       "version_major": 2,
       "version_minor": 0
      },
      "text/plain": [
       "  0%|          | 0/16 [00:00<?, ?it/s]"
      ]
     },
     "metadata": {},
     "output_type": "display_data"
    },
    {
     "name": "stdout",
     "output_type": "stream",
     "text": [
      "カウント完了8.0\n",
      "202107030612取得中・・・\n"
     ]
    },
    {
     "data": {
      "application/vnd.jupyter.widget-view+json": {
       "model_id": "4afcf41587324da7a4e732911dcd2695",
       "version_major": 2,
       "version_minor": 0
      },
      "text/plain": [
       "  0%|          | 0/12 [00:00<?, ?it/s]"
      ]
     },
     "metadata": {},
     "output_type": "display_data"
    },
    {
     "name": "stdout",
     "output_type": "stream",
     "text": [
      "カウント完了5.0\n",
      "202104020601取得中・・・\n"
     ]
    },
    {
     "data": {
      "application/vnd.jupyter.widget-view+json": {
       "model_id": "c64cfed728f94b87a213444b0a9c253a",
       "version_major": 2,
       "version_minor": 0
      },
      "text/plain": [
       "  0%|          | 0/15 [00:00<?, ?it/s]"
      ]
     },
     "metadata": {},
     "output_type": "display_data"
    },
    {
     "name": "stdout",
     "output_type": "stream",
     "text": [
      "カウント完了1.0\n",
      "202104020602取得中・・・\n"
     ]
    },
    {
     "data": {
      "application/vnd.jupyter.widget-view+json": {
       "model_id": "fdd4fa43373d47bbb8afc418c249610c",
       "version_major": 2,
       "version_minor": 0
      },
      "text/plain": [
       "  0%|          | 0/15 [00:00<?, ?it/s]"
      ]
     },
     "metadata": {},
     "output_type": "display_data"
    },
    {
     "name": "stdout",
     "output_type": "stream",
     "text": [
      "カウント完了7.0\n",
      "202104020603取得中・・・\n"
     ]
    },
    {
     "data": {
      "application/vnd.jupyter.widget-view+json": {
       "model_id": "e7988a4b7a4d4c1fb3d4a484ef4d17f2",
       "version_major": 2,
       "version_minor": 0
      },
      "text/plain": [
       "  0%|          | 0/13 [00:00<?, ?it/s]"
      ]
     },
     "metadata": {},
     "output_type": "display_data"
    },
    {
     "name": "stdout",
     "output_type": "stream",
     "text": [
      "カウント完了4.5\n",
      "202104020604取得中・・・\n"
     ]
    },
    {
     "data": {
      "application/vnd.jupyter.widget-view+json": {
       "model_id": "18bcf7626aa24245a4a467d581087af0",
       "version_major": 2,
       "version_minor": 0
      },
      "text/plain": [
       "  0%|          | 0/14 [00:00<?, ?it/s]"
      ]
     },
     "metadata": {},
     "output_type": "display_data"
    },
    {
     "name": "stdout",
     "output_type": "stream",
     "text": [
      "カウント完了7.5\n",
      "202104020605取得中・・・\n"
     ]
    },
    {
     "data": {
      "application/vnd.jupyter.widget-view+json": {
       "model_id": "15671fa02524491c84424c071d5f8d76",
       "version_major": 2,
       "version_minor": 0
      },
      "text/plain": [
       "  0%|          | 0/15 [00:00<?, ?it/s]"
      ]
     },
     "metadata": {},
     "output_type": "display_data"
    },
    {
     "name": "stdout",
     "output_type": "stream",
     "text": [
      "カウント完了8.5\n",
      "202104020606取得中・・・\n"
     ]
    },
    {
     "data": {
      "application/vnd.jupyter.widget-view+json": {
       "model_id": "e5e24a8731d24e558cc30b3cfb36ed5f",
       "version_major": 2,
       "version_minor": 0
      },
      "text/plain": [
       "  0%|          | 0/16 [00:00<?, ?it/s]"
      ]
     },
     "metadata": {},
     "output_type": "display_data"
    },
    {
     "name": "stdout",
     "output_type": "stream",
     "text": [
      "カウント完了4.5\n",
      "202104020607取得中・・・\n"
     ]
    },
    {
     "data": {
      "application/vnd.jupyter.widget-view+json": {
       "model_id": "e63375ff7d484fac8f081165297b3011",
       "version_major": 2,
       "version_minor": 0
      },
      "text/plain": [
       "  0%|          | 0/15 [00:00<?, ?it/s]"
      ]
     },
     "metadata": {},
     "output_type": "display_data"
    },
    {
     "name": "stdout",
     "output_type": "stream",
     "text": [
      "カウント完了10.5\n",
      "202104020608取得中・・・\n"
     ]
    },
    {
     "data": {
      "application/vnd.jupyter.widget-view+json": {
       "model_id": "10beae3e89d0447d841b21264ddad38d",
       "version_major": 2,
       "version_minor": 0
      },
      "text/plain": [
       "  0%|          | 0/14 [00:00<?, ?it/s]"
      ]
     },
     "metadata": {},
     "output_type": "display_data"
    },
    {
     "name": "stdout",
     "output_type": "stream",
     "text": [
      "カウント完了8.0\n",
      "202104020609取得中・・・\n"
     ]
    },
    {
     "data": {
      "application/vnd.jupyter.widget-view+json": {
       "model_id": "a075b18bc3fd40b39539a045c20462fe",
       "version_major": 2,
       "version_minor": 0
      },
      "text/plain": [
       "  0%|          | 0/14 [00:00<?, ?it/s]"
      ]
     },
     "metadata": {},
     "output_type": "display_data"
    },
    {
     "name": "stdout",
     "output_type": "stream",
     "text": [
      "カウント完了6.5\n",
      "202104020610取得中・・・\n"
     ]
    },
    {
     "data": {
      "application/vnd.jupyter.widget-view+json": {
       "model_id": "42b2a81398744226aa54f88d1cff618c",
       "version_major": 2,
       "version_minor": 0
      },
      "text/plain": [
       "  0%|          | 0/15 [00:00<?, ?it/s]"
      ]
     },
     "metadata": {},
     "output_type": "display_data"
    },
    {
     "name": "stdout",
     "output_type": "stream",
     "text": [
      "カウント完了7.5\n",
      "202104020611取得中・・・\n"
     ]
    },
    {
     "data": {
      "application/vnd.jupyter.widget-view+json": {
       "model_id": "a68c9576206f47218f86d22b32977c18",
       "version_major": 2,
       "version_minor": 0
      },
      "text/plain": [
       "  0%|          | 0/16 [00:00<?, ?it/s]"
      ]
     },
     "metadata": {},
     "output_type": "display_data"
    },
    {
     "name": "stdout",
     "output_type": "stream",
     "text": [
      "カウント完了11.0\n",
      "202104020612取得中・・・\n"
     ]
    },
    {
     "data": {
      "application/vnd.jupyter.widget-view+json": {
       "model_id": "0bdfb5cbf391407da57d07ffdbea86aa",
       "version_major": 2,
       "version_minor": 0
      },
      "text/plain": [
       "  0%|          | 0/15 [00:00<?, ?it/s]"
      ]
     },
     "metadata": {},
     "output_type": "display_data"
    },
    {
     "name": "stdout",
     "output_type": "stream",
     "text": [
      "カウント完了9.5\n"
     ]
    }
   ],
   "source": [
    "placeonbiases = []\n",
    "for race_id in race_id_list:\n",
    "    s_race =  syutuba_list.loc[race_id]\n",
    "    placecnt = 0.0\n",
    "    horse_id_list = []\n",
    "    for ds,row in s_race.iterrows():\n",
    "        horse_id_list.append(row[0])\n",
    "    \n",
    "    # 展開バイアス算出\n",
    "    print(race_id + '取得中・・・')\n",
    "    placecnt = scrape_horse(horse_id_list)\n",
    "    print('カウント完了' + str(placecnt))\n",
    "    if placecnt > 5:\n",
    "        placeonbiases.append([race_id,placecnt,'×'])        \n",
    "    else:\n",
    "        placeonbiases.append([race_id,placecnt,'〇'])        "
   ]
  },
  {
   "cell_type": "code",
   "execution_count": 275,
   "id": "stuck-premium",
   "metadata": {},
   "outputs": [
    {
     "data": {
      "text/plain": [
       "[['202105021001', 5.0, '〇'],\n",
       " ['202105021002', 5.5, '×'],\n",
       " ['202105021003', 9.5, '×'],\n",
       " ['202105021004', 0.5, '〇'],\n",
       " ['202105021005', 9.5, '×'],\n",
       " ['202105021006', 1.5, '〇'],\n",
       " ['202105021007', 7.5, '×'],\n",
       " ['202105021008', 2.5, '〇'],\n",
       " ['202105021009', 6.5, '×'],\n",
       " ['202105021010', 9.0, '×'],\n",
       " ['202105021011', 4.5, '〇'],\n",
       " ['202105021012', 5.5, '×'],\n",
       " ['202107030601', 6.0, '×'],\n",
       " ['202107030602', 9.0, '×'],\n",
       " ['202107030603', 7.0, '×'],\n",
       " ['202107030604', 6.0, '×'],\n",
       " ['202107030605', 1.5, '〇'],\n",
       " ['202107030606', 5.5, '×'],\n",
       " ['202107030607', 5.0, '〇'],\n",
       " ['202107030608', 7.0, '×'],\n",
       " ['202107030609', 7.0, '×'],\n",
       " ['202107030610', 6.5, '×'],\n",
       " ['202107030611', 8.0, '×'],\n",
       " ['202107030612', 5.0, '〇'],\n",
       " ['202104020601', 1.0, '〇'],\n",
       " ['202104020602', 7.0, '×'],\n",
       " ['202104020603', 4.5, '〇'],\n",
       " ['202104020604', 7.5, '×'],\n",
       " ['202104020605', 8.5, '×'],\n",
       " ['202104020606', 4.5, '〇'],\n",
       " ['202104020607', 10.5, '×'],\n",
       " ['202104020608', 8.0, '×'],\n",
       " ['202104020609', 6.5, '×'],\n",
       " ['202104020610', 7.5, '×'],\n",
       " ['202104020611', 11.0, '×'],\n",
       " ['202104020612', 9.5, '×']]"
      ]
     },
     "execution_count": 275,
     "metadata": {},
     "output_type": "execute_result"
    }
   ],
   "source": [
    "placeonbiases"
   ]
  },
  {
   "cell_type": "markdown",
   "id": "binding-services",
   "metadata": {},
   "source": [
    "# 日本語化"
   ]
  },
  {
   "cell_type": "code",
   "execution_count": 277,
   "id": "fantastic-melissa",
   "metadata": {},
   "outputs": [
    {
     "name": "stdout",
     "output_type": "stream",
     "text": [
      "東京 02回 10日目 04レース 展開バイアス発生：カウント0.5\n",
      "新潟 02回 06日目 01レース 展開バイアス発生：カウント1.0\n",
      "東京 02回 10日目 06レース 展開バイアス発生：カウント1.5\n",
      "中京 03回 06日目 05レース 展開バイアス発生：カウント1.5\n",
      "東京 02回 10日目 08レース 展開バイアス発生：カウント2.5\n",
      "東京 02回 10日目 11レース 展開バイアス発生：カウント4.5\n",
      "新潟 02回 06日目 03レース 展開バイアス発生：カウント4.5\n",
      "新潟 02回 06日目 06レース 展開バイアス発生：カウント4.5\n",
      "東京 02回 10日目 01レース 展開バイアス発生：カウント5.0\n",
      "中京 03回 06日目 07レース 展開バイアス発生：カウント5.0\n",
      "中京 03回 06日目 12レース 展開バイアス発生：カウント5.0\n",
      "東京 02回 10日目 02レース 展開バイアスなし\n",
      "東京 02回 10日目 12レース 展開バイアスなし\n",
      "中京 03回 06日目 06レース 展開バイアスなし\n",
      "中京 03回 06日目 01レース 展開バイアスなし\n",
      "中京 03回 06日目 04レース 展開バイアスなし\n",
      "東京 02回 10日目 09レース 展開バイアスなし\n",
      "中京 03回 06日目 10レース 展開バイアスなし\n",
      "新潟 02回 06日目 09レース 展開バイアスなし\n",
      "中京 03回 06日目 03レース 展開バイアスなし\n",
      "中京 03回 06日目 08レース 展開バイアスなし\n",
      "中京 03回 06日目 09レース 展開バイアスなし\n",
      "新潟 02回 06日目 02レース 展開バイアスなし\n",
      "東京 02回 10日目 07レース 展開バイアスなし\n",
      "新潟 02回 06日目 04レース 展開バイアスなし\n",
      "新潟 02回 06日目 10レース 展開バイアスなし\n",
      "中京 03回 06日目 11レース 展開バイアスなし\n",
      "新潟 02回 06日目 08レース 展開バイアスなし\n",
      "新潟 02回 06日目 05レース 展開バイアスなし\n",
      "東京 02回 10日目 10レース 展開バイアスなし\n",
      "中京 03回 06日目 02レース 展開バイアスなし\n",
      "東京 02回 10日目 03レース 展開バイアスなし\n",
      "東京 02回 10日目 05レース 展開バイアスなし\n",
      "新潟 02回 06日目 12レース 展開バイアスなし\n",
      "新潟 02回 06日目 07レース 展開バイアスなし\n",
      "新潟 02回 06日目 11レース 展開バイアスなし\n"
     ]
    }
   ],
   "source": [
    "course_dict = {'01':'札幌','02':'函館','03':'福島','04':'新潟','05':'東京','06':'中山','07':'中京','08':'京都','09':'阪神','10':'小倉'}\n",
    "sortlist = sorted(placeonbiases, key=lambda x: x[1])\n",
    "for placeonbias in sortlist:\n",
    "    rindex = placeonbias[0]\n",
    "    if placeonbias[1] > 5:\n",
    "        print(course_dict[rindex[4:6]] + ' ' + rindex[6:8] + '回 ' + rindex[8:10] + '日目 ' + rindex[-2:] + 'レース ' + '展開バイアスなし')\n",
    "    else:\n",
    "        print(course_dict[rindex[4:6]] + ' ' + rindex[6:8] + '回 ' + rindex[8:10] + '日目 ' + rindex[-2:] + 'レース ' + '展開バイアス発生：カウント' + str(placeonbias[1]))\n",
    "    "
   ]
  },
  {
   "cell_type": "code",
   "execution_count": null,
   "id": "connected-language",
   "metadata": {},
   "outputs": [],
   "source": []
  }
 ],
 "metadata": {
  "kernelspec": {
   "display_name": "Python 3",
   "language": "python",
   "name": "python3"
  },
  "language_info": {
   "codemirror_mode": {
    "name": "ipython",
    "version": 3
   },
   "file_extension": ".py",
   "mimetype": "text/x-python",
   "name": "python",
   "nbconvert_exporter": "python",
   "pygments_lexer": "ipython3",
   "version": "3.7.6"
  }
 },
 "nbformat": 4,
 "nbformat_minor": 5
}
