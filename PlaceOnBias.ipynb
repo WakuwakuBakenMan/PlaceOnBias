{
 "cells": [
  {
   "cell_type": "markdown",
   "id": "accompanied-exception",
   "metadata": {},
   "source": [
    "# import"
   ]
  },
  {
   "cell_type": "code",
   "execution_count": 12,
   "id": "centered-second",
   "metadata": {},
   "outputs": [],
   "source": [
    "import time\n",
    "import pandas as pd\n",
    "from urllib.request import urlopen\n",
    "from tqdm.notebook import tqdm\n",
    "import requests\n",
    "from bs4 import BeautifulSoup\n",
    "import re\n",
    "import csv"
   ]
  },
  {
   "cell_type": "markdown",
   "id": "together-arizona",
   "metadata": {},
   "source": [
    "# 出馬表からレース単位で馬IDを抜き出す"
   ]
  },
  {
   "cell_type": "code",
   "execution_count": 3,
   "id": "permanent-subject",
   "metadata": {},
   "outputs": [],
   "source": [
    "def scrape_syutuba(race_id_list):\n",
    "    data = pd.DataFrame()\n",
    "    for race_id in tqdm(race_id_list):\n",
    "        time.sleep(1)\n",
    "        try:\n",
    "            url = 'https://race.netkeiba.com/race/shutuba.html?race_id=' + race_id\n",
    "\n",
    "            html = requests.get(url)\n",
    "            html.encoding = \"EUC-JP\"\n",
    "            soup = BeautifulSoup(html.text, \"html.parser\")\n",
    "\n",
    "            # horse_id\n",
    "            horse_td_list = soup.find_all(\"td\", attrs={'class': 'HorseInfo'})\n",
    "            dfs = pd.DataFrame()\n",
    "            for td in horse_td_list:\n",
    "                horse_id = re.findall(r'\\d+', td.find('a')['href'])[0]\n",
    "                record = pd.Series([horse_id])\n",
    "                dfs = dfs.append(record,ignore_index=True)\n",
    "\n",
    "            dfs.index = [race_id] * len(dfs)\n",
    "            data = data.append(dfs)\n",
    "        except:\n",
    "            break\n",
    "\n",
    "    return data"
   ]
  },
  {
   "cell_type": "markdown",
   "id": "retained-accountability",
   "metadata": {},
   "source": [
    "# 各馬IDから近走成績を取得し、展開バイアスの公式に当てはめてカウントを行う\n",
    "\n",
    "①近3走以内に全角4番手以内を2回以上通過した事がある馬→1でカウント\n",
    "②近3走以内に全角4番手以内を1回通過した事がある馬→0.5でカウント\n",
    "③近3走以内に全角4番手以内を通過した事がない馬→0でカウント（要するにカウントしない）\n",
    "④逃げ馬カウント（近3走以内に2回以上逃げた馬が1頭もいない場合→－1.5カウント／近3走以内に2回以上逃げた馬が1頭だけの場合→0カウント／近3走以内に2回以上逃げた馬が2頭以上いる場合→＋1.5カウント）"
   ]
  },
  {
   "cell_type": "code",
   "execution_count": 4,
   "id": "postal-algorithm",
   "metadata": {},
   "outputs": [],
   "source": [
    "def scrape_horse(horse_id_list):\n",
    "    #逃げ馬頭数\n",
    "    nigeuma = 0\n",
    "    #展開バイアスカウント\n",
    "    PlcOnCnt = 0.0\n",
    "    #各馬情報取得\n",
    "    for horse_id in tqdm(horse_id_list):\n",
    "        time.sleep(1)\n",
    "        try:\n",
    "            url = 'https://db.netkeiba.com/horse/' + horse_id\n",
    "            df = pd.read_html(url)[3]\n",
    "            #受賞歴がある馬の場合4番目のデータを取得する\n",
    "            if df.columns[0]=='受賞歴':\n",
    "                df = pd.read_html(url)[4]\n",
    "                \n",
    "            required_columns = {'通過'}\n",
    "            if not required_columns <= set(df.columns):\n",
    "                continue\n",
    "            \n",
    "            #各馬近走３レース分のみ取得\n",
    "            cnt = 0\n",
    "            #全コーナー４番手以内回数\n",
    "            Allpas4cnt = 0\n",
    "            #逃げた回数\n",
    "            nigecnt = 0\n",
    "            for passages in df['通過']:\n",
    "                # 出走取消等は除外\n",
    "                if type(passages) != str:\n",
    "                    continue\n",
    "                # 通過順をリストで取得\n",
    "                passage = passages.split('-')\n",
    "                #文字列を数値に変換\n",
    "                l_passage = [int(s) for s in passage]\n",
    "                #各コーナーの最大値が４以下であればAll4カウント\n",
    "                if max(l_passage) <= 4:\n",
    "                    Allpas4cnt = Allpas4cnt + 1\n",
    "                #どこかに１があれば逃げたと判定\n",
    "                if l_passage[0] == 1:\n",
    "                    nigecnt = nigecnt + 1\n",
    "                cnt = cnt + 1\n",
    "                if cnt >= 3:\n",
    "                    break\n",
    "            \n",
    "            #全コーナー４番手以内回数が２以上なら\n",
    "            if Allpas4cnt >= 2:\n",
    "                PlcOnCnt = PlcOnCnt + 1\n",
    "            #全コーナー４番手以内回数が１なら\n",
    "            elif Allpas4cnt == 1:\n",
    "                PlcOnCnt = PlcOnCnt + 0.5\n",
    "            #逃げた回数が２回以上ならカウント\n",
    "            if nigecnt >= 2:\n",
    "                nigeuma = nigeuma + 1\n",
    "\n",
    "        except IndexError:\n",
    "            continue\n",
    "        except Exception as e:\n",
    "            print(e)\n",
    "            break\n",
    "        except:\n",
    "            break\n",
    "\n",
    "    #逃げ馬の数で最終調整\n",
    "    if nigeuma == 0:\n",
    "        PlcOnCnt = PlcOnCnt - 1.5\n",
    "    elif nigeuma >= 2:\n",
    "        PlcOnCnt = PlcOnCnt + 1.5\n",
    "\n",
    "    return PlcOnCnt"
   ]
  },
  {
   "cell_type": "markdown",
   "id": "rural-rescue",
   "metadata": {},
   "source": [
    "# レースIDリスト作成"
   ]
  },
  {
   "cell_type": "code",
   "execution_count": 5,
   "id": "complimentary-ethiopia",
   "metadata": {},
   "outputs": [],
   "source": [
    "year = 2021\n",
    "course_list = [5,9,1]\n",
    "kai_list = [3,3,1]\n",
    "day_list = [6,2,4]\n",
    "racenum = 1\n",
    "race_id_list = []\n",
    "\n",
    "for i in range(0,len(course_list),1):\n",
    "    for race in range(0,racenum,1): \n",
    "        race_id = str(year).zfill(4) + str(course_list[i]).zfill(2) + str(kai_list[i]).zfill(2) + str(day_list[i]).zfill(2) +str(race+1).zfill(2)\n",
    "        race_id_list.append(race_id)"
   ]
  },
  {
   "cell_type": "markdown",
   "id": "tired-potter",
   "metadata": {},
   "source": [
    "# 出馬表スクレイピング"
   ]
  },
  {
   "cell_type": "code",
   "execution_count": 6,
   "id": "advised-purchase",
   "metadata": {},
   "outputs": [
    {
     "data": {
      "application/vnd.jupyter.widget-view+json": {
       "model_id": "1ce50ba3585147ca94e88d5e72fc32dc",
       "version_major": 2,
       "version_minor": 0
      },
      "text/plain": [
       "  0%|          | 0/3 [00:00<?, ?it/s]"
      ]
     },
     "metadata": {},
     "output_type": "display_data"
    }
   ],
   "source": [
    "syutuba_list = scrape_syutuba(race_id_list)"
   ]
  },
  {
   "cell_type": "code",
   "execution_count": 7,
   "id": "recorded-manor",
   "metadata": {},
   "outputs": [
    {
     "data": {
      "text/html": [
       "<div>\n",
       "<style scoped>\n",
       "    .dataframe tbody tr th:only-of-type {\n",
       "        vertical-align: middle;\n",
       "    }\n",
       "\n",
       "    .dataframe tbody tr th {\n",
       "        vertical-align: top;\n",
       "    }\n",
       "\n",
       "    .dataframe thead th {\n",
       "        text-align: right;\n",
       "    }\n",
       "</style>\n",
       "<table border=\"1\" class=\"dataframe\">\n",
       "  <thead>\n",
       "    <tr style=\"text-align: right;\">\n",
       "      <th></th>\n",
       "      <th>0</th>\n",
       "    </tr>\n",
       "  </thead>\n",
       "  <tbody>\n",
       "    <tr>\n",
       "      <th>202105030601</th>\n",
       "      <td>2017104880</td>\n",
       "    </tr>\n",
       "    <tr>\n",
       "      <th>202105030601</th>\n",
       "      <td>2016104289</td>\n",
       "    </tr>\n",
       "    <tr>\n",
       "      <th>202105030601</th>\n",
       "      <td>2015102746</td>\n",
       "    </tr>\n",
       "    <tr>\n",
       "      <th>202105030601</th>\n",
       "      <td>2016104963</td>\n",
       "    </tr>\n",
       "    <tr>\n",
       "      <th>202105030601</th>\n",
       "      <td>2016104153</td>\n",
       "    </tr>\n",
       "    <tr>\n",
       "      <th>202105030601</th>\n",
       "      <td>2014104912</td>\n",
       "    </tr>\n",
       "    <tr>\n",
       "      <th>202105030601</th>\n",
       "      <td>2017102786</td>\n",
       "    </tr>\n",
       "    <tr>\n",
       "      <th>202105030601</th>\n",
       "      <td>2014100484</td>\n",
       "    </tr>\n",
       "    <tr>\n",
       "      <th>202105030601</th>\n",
       "      <td>2016100610</td>\n",
       "    </tr>\n",
       "    <tr>\n",
       "      <th>202105030601</th>\n",
       "      <td>2017100925</td>\n",
       "    </tr>\n",
       "    <tr>\n",
       "      <th>202109030201</th>\n",
       "      <td>2018101296</td>\n",
       "    </tr>\n",
       "    <tr>\n",
       "      <th>202109030201</th>\n",
       "      <td>2018103652</td>\n",
       "    </tr>\n",
       "    <tr>\n",
       "      <th>202109030201</th>\n",
       "      <td>2018104161</td>\n",
       "    </tr>\n",
       "    <tr>\n",
       "      <th>202109030201</th>\n",
       "      <td>2018100676</td>\n",
       "    </tr>\n",
       "    <tr>\n",
       "      <th>202109030201</th>\n",
       "      <td>2018103601</td>\n",
       "    </tr>\n",
       "    <tr>\n",
       "      <th>202109030201</th>\n",
       "      <td>2018100936</td>\n",
       "    </tr>\n",
       "    <tr>\n",
       "      <th>202109030201</th>\n",
       "      <td>2018104545</td>\n",
       "    </tr>\n",
       "    <tr>\n",
       "      <th>202109030201</th>\n",
       "      <td>2018103430</td>\n",
       "    </tr>\n",
       "    <tr>\n",
       "      <th>202109030201</th>\n",
       "      <td>2018103887</td>\n",
       "    </tr>\n",
       "    <tr>\n",
       "      <th>202109030201</th>\n",
       "      <td>2018101891</td>\n",
       "    </tr>\n",
       "    <tr>\n",
       "      <th>202109030201</th>\n",
       "      <td>2018102223</td>\n",
       "    </tr>\n",
       "    <tr>\n",
       "      <th>202109030201</th>\n",
       "      <td>2018103129</td>\n",
       "    </tr>\n",
       "    <tr>\n",
       "      <th>202109030201</th>\n",
       "      <td>2018103687</td>\n",
       "    </tr>\n",
       "    <tr>\n",
       "      <th>202109030201</th>\n",
       "      <td>2018105579</td>\n",
       "    </tr>\n",
       "    <tr>\n",
       "      <th>202109030201</th>\n",
       "      <td>2018104767</td>\n",
       "    </tr>\n",
       "    <tr>\n",
       "      <th>202109030201</th>\n",
       "      <td>2018106548</td>\n",
       "    </tr>\n",
       "    <tr>\n",
       "      <th>202101010401</th>\n",
       "      <td>2018106814</td>\n",
       "    </tr>\n",
       "    <tr>\n",
       "      <th>202101010401</th>\n",
       "      <td>2018104256</td>\n",
       "    </tr>\n",
       "    <tr>\n",
       "      <th>202101010401</th>\n",
       "      <td>2018102827</td>\n",
       "    </tr>\n",
       "    <tr>\n",
       "      <th>202101010401</th>\n",
       "      <td>2018101327</td>\n",
       "    </tr>\n",
       "    <tr>\n",
       "      <th>202101010401</th>\n",
       "      <td>2018105101</td>\n",
       "    </tr>\n",
       "    <tr>\n",
       "      <th>202101010401</th>\n",
       "      <td>2018101988</td>\n",
       "    </tr>\n",
       "    <tr>\n",
       "      <th>202101010401</th>\n",
       "      <td>2018100402</td>\n",
       "    </tr>\n",
       "    <tr>\n",
       "      <th>202101010401</th>\n",
       "      <td>2018101110</td>\n",
       "    </tr>\n",
       "    <tr>\n",
       "      <th>202101010401</th>\n",
       "      <td>2018101633</td>\n",
       "    </tr>\n",
       "    <tr>\n",
       "      <th>202101010401</th>\n",
       "      <td>2018101595</td>\n",
       "    </tr>\n",
       "    <tr>\n",
       "      <th>202101010401</th>\n",
       "      <td>2018105390</td>\n",
       "    </tr>\n",
       "    <tr>\n",
       "      <th>202101010401</th>\n",
       "      <td>2018106317</td>\n",
       "    </tr>\n",
       "    <tr>\n",
       "      <th>202101010401</th>\n",
       "      <td>2018103604</td>\n",
       "    </tr>\n",
       "    <tr>\n",
       "      <th>202101010401</th>\n",
       "      <td>2018104923</td>\n",
       "    </tr>\n",
       "    <tr>\n",
       "      <th>202101010401</th>\n",
       "      <td>2018104409</td>\n",
       "    </tr>\n",
       "    <tr>\n",
       "      <th>202101010401</th>\n",
       "      <td>2018103918</td>\n",
       "    </tr>\n",
       "  </tbody>\n",
       "</table>\n",
       "</div>"
      ],
      "text/plain": [
       "                       0\n",
       "202105030601  2017104880\n",
       "202105030601  2016104289\n",
       "202105030601  2015102746\n",
       "202105030601  2016104963\n",
       "202105030601  2016104153\n",
       "202105030601  2014104912\n",
       "202105030601  2017102786\n",
       "202105030601  2014100484\n",
       "202105030601  2016100610\n",
       "202105030601  2017100925\n",
       "202109030201  2018101296\n",
       "202109030201  2018103652\n",
       "202109030201  2018104161\n",
       "202109030201  2018100676\n",
       "202109030201  2018103601\n",
       "202109030201  2018100936\n",
       "202109030201  2018104545\n",
       "202109030201  2018103430\n",
       "202109030201  2018103887\n",
       "202109030201  2018101891\n",
       "202109030201  2018102223\n",
       "202109030201  2018103129\n",
       "202109030201  2018103687\n",
       "202109030201  2018105579\n",
       "202109030201  2018104767\n",
       "202109030201  2018106548\n",
       "202101010401  2018106814\n",
       "202101010401  2018104256\n",
       "202101010401  2018102827\n",
       "202101010401  2018101327\n",
       "202101010401  2018105101\n",
       "202101010401  2018101988\n",
       "202101010401  2018100402\n",
       "202101010401  2018101110\n",
       "202101010401  2018101633\n",
       "202101010401  2018101595\n",
       "202101010401  2018105390\n",
       "202101010401  2018106317\n",
       "202101010401  2018103604\n",
       "202101010401  2018104923\n",
       "202101010401  2018104409\n",
       "202101010401  2018103918"
      ]
     },
     "execution_count": 7,
     "metadata": {},
     "output_type": "execute_result"
    }
   ],
   "source": [
    "syutuba_list"
   ]
  },
  {
   "cell_type": "markdown",
   "id": "coordinate-equilibrium",
   "metadata": {},
   "source": [
    "# 各馬成績スクレイピング　＆　展開バイアス算出"
   ]
  },
  {
   "cell_type": "code",
   "execution_count": 8,
   "id": "european-dividend",
   "metadata": {},
   "outputs": [
    {
     "name": "stdout",
     "output_type": "stream",
     "text": [
      "202105030601取得中・・・\n"
     ]
    },
    {
     "data": {
      "application/vnd.jupyter.widget-view+json": {
       "model_id": "9823542c1f424816a71fda82d6c686c6",
       "version_major": 2,
       "version_minor": 0
      },
      "text/plain": [
       "  0%|          | 0/10 [00:00<?, ?it/s]"
      ]
     },
     "metadata": {},
     "output_type": "display_data"
    },
    {
     "name": "stdout",
     "output_type": "stream",
     "text": [
      "カウント完了1.5\n",
      "202109030201取得中・・・\n"
     ]
    },
    {
     "data": {
      "application/vnd.jupyter.widget-view+json": {
       "model_id": "60fdc8d266ce4eec8a5b228efeeece53",
       "version_major": 2,
       "version_minor": 0
      },
      "text/plain": [
       "  0%|          | 0/16 [00:00<?, ?it/s]"
      ]
     },
     "metadata": {},
     "output_type": "display_data"
    },
    {
     "name": "stdout",
     "output_type": "stream",
     "text": [
      "カウント完了5.5\n",
      "202101010401取得中・・・\n"
     ]
    },
    {
     "data": {
      "application/vnd.jupyter.widget-view+json": {
       "model_id": "88622e51b2a14c1792df8d299ed78489",
       "version_major": 2,
       "version_minor": 0
      },
      "text/plain": [
       "  0%|          | 0/16 [00:00<?, ?it/s]"
      ]
     },
     "metadata": {},
     "output_type": "display_data"
    },
    {
     "name": "stdout",
     "output_type": "stream",
     "text": [
      "カウント完了4.5\n"
     ]
    }
   ],
   "source": [
    "placeonbiases = []\n",
    "for race_id in race_id_list:\n",
    "    s_race =  syutuba_list.loc[race_id]\n",
    "    placecnt = 0.0\n",
    "    horse_id_list = []\n",
    "    for ds,row in s_race.iterrows():\n",
    "        horse_id_list.append(row[0])\n",
    "    \n",
    "    # 展開バイアス算出\n",
    "    print(race_id + '取得中・・・')\n",
    "    placecnt = scrape_horse(horse_id_list)\n",
    "    print('カウント完了' + str(placecnt))\n",
    "    if placecnt > 5:\n",
    "        placeonbiases.append([race_id,placecnt,'×'])        \n",
    "    else:\n",
    "        placeonbiases.append([race_id,placecnt,'〇'])        "
   ]
  },
  {
   "cell_type": "code",
   "execution_count": 9,
   "id": "statutory-willow",
   "metadata": {},
   "outputs": [
    {
     "data": {
      "text/plain": [
       "[['202105030601', 1.5, '〇'],\n",
       " ['202109030201', 5.5, '×'],\n",
       " ['202101010401', 4.5, '〇']]"
      ]
     },
     "execution_count": 9,
     "metadata": {},
     "output_type": "execute_result"
    }
   ],
   "source": [
    "placeonbiases"
   ]
  },
  {
   "cell_type": "code",
   "execution_count": 15,
   "id": "positive-rental",
   "metadata": {},
   "outputs": [],
   "source": [
    "# listをCSVに出力する\n",
    "with open('./list.csv','w') as f:\n",
    "    writer = csv.writer(f)\n",
    "    for pbias in placeonbiases:\n",
    "        writer.writerow(pbias)\n",
    "    \n",
    "# listをdataframeに変換してからCSVに出力する\n",
    "pbias_df = pd.DataFrame(placeonbiases)\n",
    "pbias_df.to_csv('./dataframe.csv', encoding='shift-jis')\n"
   ]
  },
  {
   "cell_type": "markdown",
   "id": "finished-final",
   "metadata": {},
   "source": [
    "# 日本語化"
   ]
  },
  {
   "cell_type": "code",
   "execution_count": 32,
   "id": "eligible-delicious",
   "metadata": {},
   "outputs": [
    {
     "name": "stdout",
     "output_type": "stream",
     "text": [
      "東京 03回 06日目 01レース 展開バイアス発生：カウント1.5\n",
      "東京 03回 06日目 02レース 展開バイアス発生：カウント0.5\n",
      "東京 03回 06日目 03レース 展開バイアス発生：カウント3.0\n",
      "東京 03回 06日目 04レース 展開バイアス発生：カウント0.0\n",
      "東京 03回 06日目 05レース 展開バイアス発生：カウント-1.5\n",
      "東京 03回 06日目 06レース 展開バイアス発生：カウント3.0\n",
      "東京 03回 06日目 07レース 展開バイアスなし：カウント7.5\n",
      "東京 03回 06日目 08レース 展開バイアス発生：カウント4.0\n",
      "東京 03回 06日目 09レース 展開バイアス発生：カウント2.0\n",
      "東京 03回 06日目 10レース 展開バイアスなし：カウント5.5\n",
      "東京 03回 06日目 11レース 展開バイアスなし：カウント9.5\n",
      "東京 03回 06日目 12レース 展開バイアスなし：カウント8.5\n",
      "阪神 03回 02日目 01レース 展開バイアス発生：カウント3.5\n",
      "阪神 03回 02日目 02レース 展開バイアス発生：カウント5.0\n",
      "阪神 03回 02日目 03レース 展開バイアス発生：カウント1.0\n",
      "阪神 03回 02日目 04レース 展開バイアス発生：カウント3.0\n",
      "阪神 03回 02日目 05レース 展開バイアス発生：カウント-1.5\n",
      "阪神 03回 02日目 06レース 展開バイアス発生：カウント4.0\n",
      "阪神 03回 02日目 07レース 展開バイアスなし：カウント6.5\n",
      "阪神 03回 02日目 08レース 展開バイアス発生：カウント4.0\n",
      "阪神 03回 02日目 09レース 展開バイアス発生：カウント4.0\n",
      "阪神 03回 02日目 10レース 展開バイアスなし：カウント6.0\n",
      "阪神 03回 02日目 11レース 展開バイアス発生：カウント2.0\n",
      "阪神 03回 02日目 12レース 展開バイアスなし：カウント9.0\n",
      "札幌 01回 04日目 01レース 展開バイアス発生：カウント4.5\n",
      "札幌 01回 04日目 02レース 展開バイアス発生：カウント0.5\n",
      "札幌 01回 04日目 03レース 展開バイアス発生：カウント4.5\n",
      "札幌 01回 04日目 04レース 展開バイアス発生：カウント1.0\n",
      "札幌 01回 04日目 05レース 展開バイアス発生：カウント-1.5\n",
      "札幌 01回 04日目 06レース 展開バイアス発生：カウント3.5\n",
      "札幌 01回 04日目 07レース 展開バイアスなし：カウント5.5\n",
      "札幌 01回 04日目 08レース 展開バイアス発生：カウント2.0\n",
      "札幌 01回 04日目 09レース 展開バイアス発生：カウント3.0\n",
      "札幌 01回 04日目 10レース 展開バイアスなし：カウント6.0\n",
      "札幌 01回 04日目 11レース 展開バイアス発生：カウント2.5\n",
      "札幌 01回 04日目 12レース 展開バイアス発生：カウント4.0\n",
      "東京 03回 06日目 05レース 展開バイアス発生：カウント-1.5\n",
      "阪神 03回 02日目 05レース 展開バイアス発生：カウント-1.5\n",
      "札幌 01回 04日目 05レース 展開バイアス発生：カウント-1.5\n",
      "東京 03回 06日目 04レース 展開バイアス発生：カウント0.0\n",
      "東京 03回 06日目 02レース 展開バイアス発生：カウント0.5\n",
      "札幌 01回 04日目 02レース 展開バイアス発生：カウント0.5\n",
      "阪神 03回 02日目 03レース 展開バイアス発生：カウント1.0\n",
      "札幌 01回 04日目 04レース 展開バイアス発生：カウント1.0\n",
      "東京 03回 06日目 01レース 展開バイアス発生：カウント1.5\n",
      "東京 03回 06日目 09レース 展開バイアス発生：カウント2.0\n",
      "阪神 03回 02日目 11レース 展開バイアス発生：カウント2.0\n",
      "札幌 01回 04日目 08レース 展開バイアス発生：カウント2.0\n",
      "札幌 01回 04日目 11レース 展開バイアス発生：カウント2.5\n",
      "東京 03回 06日目 03レース 展開バイアス発生：カウント3.0\n",
      "東京 03回 06日目 06レース 展開バイアス発生：カウント3.0\n",
      "阪神 03回 02日目 04レース 展開バイアス発生：カウント3.0\n",
      "札幌 01回 04日目 09レース 展開バイアス発生：カウント3.0\n",
      "阪神 03回 02日目 01レース 展開バイアス発生：カウント3.5\n",
      "札幌 01回 04日目 06レース 展開バイアス発生：カウント3.5\n",
      "東京 03回 06日目 08レース 展開バイアス発生：カウント4.0\n",
      "阪神 03回 02日目 06レース 展開バイアス発生：カウント4.0\n",
      "阪神 03回 02日目 08レース 展開バイアス発生：カウント4.0\n",
      "阪神 03回 02日目 09レース 展開バイアス発生：カウント4.0\n",
      "札幌 01回 04日目 12レース 展開バイアス発生：カウント4.0\n",
      "札幌 01回 04日目 01レース 展開バイアス発生：カウント4.5\n",
      "札幌 01回 04日目 03レース 展開バイアス発生：カウント4.5\n",
      "阪神 03回 02日目 02レース 展開バイアス発生：カウント5.0\n",
      "東京 03回 06日目 10レース 展開バイアスなし：カウント5.5\n",
      "札幌 01回 04日目 07レース 展開バイアスなし：カウント5.5\n",
      "阪神 03回 02日目 10レース 展開バイアスなし：カウント6.0\n",
      "札幌 01回 04日目 10レース 展開バイアスなし：カウント6.0\n",
      "阪神 03回 02日目 07レース 展開バイアスなし：カウント6.5\n",
      "東京 03回 06日目 07レース 展開バイアスなし：カウント7.5\n",
      "東京 03回 06日目 12レース 展開バイアスなし：カウント8.5\n",
      "阪神 03回 02日目 12レース 展開バイアスなし：カウント9.0\n",
      "東京 03回 06日目 11レース 展開バイアスなし：カウント9.5\n"
     ]
    }
   ],
   "source": [
    "course_dict = {'01':'札幌','02':'函館','03':'福島','04':'新潟','05':'東京','06':'中山','07':'中京','08':'京都','09':'阪神','10':'小倉'}\n",
    "\n",
    "for placeonbias in placeonbiases:\n",
    "    rindex = placeonbias[0]\n",
    "    if placeonbias[1] > 5:\n",
    "        print(course_dict[rindex[4:6]] + ' ' + rindex[6:8] + '回 ' + rindex[8:10] + '日目 ' + rindex[-2:] + 'レース ' + '展開バイアスなし：カウント' + str(placeonbias[1]))\n",
    "    else:\n",
    "        print(course_dict[rindex[4:6]] + ' ' + rindex[6:8] + '回 ' + rindex[8:10] + '日目 ' + rindex[-2:] + 'レース ' + '展開バイアス発生：カウント' + str(placeonbias[1]))\n",
    "\n",
    "sortlist = sorted(placeonbiases, key=lambda x: x[1])\n",
    "for placeonbias in sortlist:\n",
    "    rindex = placeonbias[0]\n",
    "    if placeonbias[1] > 5:\n",
    "        print(course_dict[rindex[4:6]] + ' ' + rindex[6:8] + '回 ' + rindex[8:10] + '日目 ' + rindex[-2:] + 'レース ' + '展開バイアスなし：カウント' + str(placeonbias[1]))\n",
    "    else:\n",
    "        print(course_dict[rindex[4:6]] + ' ' + rindex[6:8] + '回 ' + rindex[8:10] + '日目 ' + rindex[-2:] + 'レース ' + '展開バイアス発生：カウント' + str(placeonbias[1]))\n",
    "    "
   ]
  },
  {
   "cell_type": "code",
   "execution_count": null,
   "id": "finished-butler",
   "metadata": {},
   "outputs": [],
   "source": []
  }
 ],
 "metadata": {
  "kernelspec": {
   "display_name": "Python 3",
   "language": "python",
   "name": "python3"
  },
  "language_info": {
   "codemirror_mode": {
    "name": "ipython",
    "version": 3
   },
   "file_extension": ".py",
   "mimetype": "text/x-python",
   "name": "python",
   "nbconvert_exporter": "python",
   "pygments_lexer": "ipython3",
   "version": "3.7.6"
  }
 },
 "nbformat": 4,
 "nbformat_minor": 5
}
