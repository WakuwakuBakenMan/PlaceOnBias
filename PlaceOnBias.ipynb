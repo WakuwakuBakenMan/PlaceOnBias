{
 "cells": [
  {
   "cell_type": "markdown",
   "id": "native-editor",
   "metadata": {},
   "source": [
    "# import"
   ]
  },
  {
   "cell_type": "code",
   "execution_count": 1,
   "id": "immune-wallpaper",
   "metadata": {},
   "outputs": [],
   "source": [
    "import time\n",
    "import pandas as pd\n",
    "from urllib.request import urlopen\n",
    "from tqdm.notebook import tqdm\n",
    "import requests\n",
    "from bs4 import BeautifulSoup\n",
    "import re"
   ]
  },
  {
   "cell_type": "markdown",
   "id": "private-architecture",
   "metadata": {},
   "source": [
    "# 出馬表からレース単位で馬IDを抜き出す"
   ]
  },
  {
   "cell_type": "code",
   "execution_count": 2,
   "id": "cloudy-security",
   "metadata": {},
   "outputs": [],
   "source": [
    "def scrape_syutuba(race_id_list):\n",
    "    data = pd.DataFrame()\n",
    "    for race_id in tqdm(race_id_list):\n",
    "        time.sleep(1)\n",
    "        try:\n",
    "            url = 'https://race.netkeiba.com/race/shutuba.html?race_id=' + race_id\n",
    "\n",
    "            html = requests.get(url)\n",
    "            html.encoding = \"EUC-JP\"\n",
    "            soup = BeautifulSoup(html.text, \"html.parser\")\n",
    "\n",
    "            # horse_id\n",
    "            horse_td_list = soup.find_all(\"td\", attrs={'class': 'HorseInfo'})\n",
    "            dfs = pd.DataFrame()\n",
    "            for td in horse_td_list:\n",
    "                horse_id = re.findall(r'\\d+', td.find('a')['href'])[0]\n",
    "                record = pd.Series([horse_id])\n",
    "                dfs = dfs.append(record,ignore_index=True)\n",
    "\n",
    "            dfs.index = [race_id] * len(dfs)\n",
    "            data = data.append(dfs)\n",
    "        except:\n",
    "            break\n",
    "\n",
    "    return data"
   ]
  },
  {
   "cell_type": "markdown",
   "id": "operating-stations",
   "metadata": {},
   "source": [
    "# 各馬IDから近走成績を取得し、展開バイアスの公式に当てはめてカウントを行う\n",
    "\n",
    "①近3走以内に全角4番手以内を2回以上通過した事がある馬→1でカウント\n",
    "②近3走以内に全角4番手以内を1回通過した事がある馬→0.5でカウント\n",
    "③近3走以内に全角4番手以内を通過した事がない馬→0でカウント（要するにカウントしない）\n",
    "④逃げ馬カウント（近3走以内に2回以上逃げた馬が1頭もいない場合→－1.5カウント／近3走以内に2回以上逃げた馬が1頭だけの場合→0カウント／近3走以内に2回以上逃げた馬が2頭以上いる場合→＋1.5カウント）"
   ]
  },
  {
   "cell_type": "code",
   "execution_count": 3,
   "id": "anticipated-jason",
   "metadata": {},
   "outputs": [],
   "source": [
    "def scrape_horse(horse_id_list):\n",
    "    #逃げ馬頭数\n",
    "    nigeuma = 0\n",
    "    #展開バイアスカウント\n",
    "    PlcOnCnt = 0.0\n",
    "    #各馬情報取得\n",
    "    for horse_id in tqdm(horse_id_list):\n",
    "        time.sleep(1)\n",
    "        try:\n",
    "            url = 'https://db.netkeiba.com/horse/' + horse_id\n",
    "            df = pd.read_html(url)[3]\n",
    "            #受賞歴がある馬の場合4番目のデータを取得する\n",
    "            if df.columns[0]=='受賞歴':\n",
    "                df = pd.read_html(url)[4]\n",
    "                \n",
    "            required_columns = {'通過'}\n",
    "            if not required_columns <= set(df.columns):\n",
    "                continue\n",
    "            \n",
    "            #各馬近走３レース分のみ取得\n",
    "            cnt = 0\n",
    "            #全コーナー４番手以内回数\n",
    "            Allpas4cnt = 0\n",
    "            #逃げた回数\n",
    "            nigecnt = 0\n",
    "            for passages in df['通過']:\n",
    "                # 出走取消等は除外\n",
    "                if type(passages) != str:\n",
    "                    continue\n",
    "                # 通過順をリストで取得\n",
    "                passage = passages.split('-')\n",
    "                #文字列を数値に変換\n",
    "                l_passage = [int(s) for s in passage]\n",
    "                #各コーナーの最大値が４以下であればAll4カウント\n",
    "                if max(l_passage) <= 4:\n",
    "                    Allpas4cnt = Allpas4cnt + 1\n",
    "                #どこかに１があれば逃げたと判定\n",
    "                if l_passage.count(1) > 0:\n",
    "                    nigecnt = nigecnt + 1\n",
    "                cnt = cnt + 1\n",
    "                if cnt >= 3:\n",
    "                    break\n",
    "            \n",
    "            #全コーナー４番手以内回数が２以上なら\n",
    "            if Allpas4cnt >= 2:\n",
    "                PlcOnCnt = PlcOnCnt + 1\n",
    "            #全コーナー４番手以内回数が１なら\n",
    "            elif Allpas4cnt == 1:\n",
    "                PlcOnCnt = PlcOnCnt + 0.5\n",
    "                \n",
    "            #逃げた回数が２回以上ならカウント\n",
    "            if nigecnt >= 2:\n",
    "                nigeuma = nigeuma + 1\n",
    "\n",
    "        except IndexError:\n",
    "            continue\n",
    "        except Exception as e:\n",
    "            print(e)\n",
    "            break\n",
    "        except:\n",
    "            break\n",
    "\n",
    "    #逃げ馬の数で最終調整\n",
    "    if nigeuma == 0:\n",
    "        PlcOnCnt = PlcOnCnt - 1.5\n",
    "    elif nigeuma >= 2:\n",
    "        PlcOnCnt = PlcOnCnt + 1.5\n",
    "\n",
    "    return PlcOnCnt"
   ]
  },
  {
   "cell_type": "markdown",
   "id": "hawaiian-tampa",
   "metadata": {},
   "source": [
    "# レースIDリスト作成"
   ]
  },
  {
   "cell_type": "code",
   "execution_count": 4,
   "id": "complimentary-marker",
   "metadata": {},
   "outputs": [],
   "source": [
    "year = 2021\n",
    "course_list = [5,7,4]\n",
    "kai_list = [2,3,2]\n",
    "day_list = [10,6,6]\n",
    "racenum = 12\n",
    "race_id_list = []\n",
    "\n",
    "for i in range(0,len(course_list),1):\n",
    "    for race in range(0,racenum,1): \n",
    "        race_id = str(year).zfill(4) + str(course_list[i]).zfill(2) + str(kai_list[i]).zfill(2) + str(day_list[i]).zfill(2) +str(race+1).zfill(2)\n",
    "        race_id_list.append(race_id)"
   ]
  },
  {
   "cell_type": "markdown",
   "id": "alpine-mercury",
   "metadata": {},
   "source": [
    "# 出馬表スクレイピング"
   ]
  },
  {
   "cell_type": "code",
   "execution_count": 5,
   "id": "legal-central",
   "metadata": {},
   "outputs": [
    {
     "data": {
      "application/vnd.jupyter.widget-view+json": {
       "model_id": "45e12933f5c14b8f8abcd1e40f7cec48",
       "version_major": 2,
       "version_minor": 0
      },
      "text/plain": [
       "  0%|          | 0/36 [00:00<?, ?it/s]"
      ]
     },
     "metadata": {},
     "output_type": "display_data"
    }
   ],
   "source": [
    "syutuba_list = scrape_syutuba(race_id_list)"
   ]
  },
  {
   "cell_type": "code",
   "execution_count": 6,
   "id": "sudden-mambo",
   "metadata": {},
   "outputs": [
    {
     "data": {
      "text/html": [
       "<div>\n",
       "<style scoped>\n",
       "    .dataframe tbody tr th:only-of-type {\n",
       "        vertical-align: middle;\n",
       "    }\n",
       "\n",
       "    .dataframe tbody tr th {\n",
       "        vertical-align: top;\n",
       "    }\n",
       "\n",
       "    .dataframe thead th {\n",
       "        text-align: right;\n",
       "    }\n",
       "</style>\n",
       "<table border=\"1\" class=\"dataframe\">\n",
       "  <thead>\n",
       "    <tr style=\"text-align: right;\">\n",
       "      <th></th>\n",
       "      <th>0</th>\n",
       "    </tr>\n",
       "  </thead>\n",
       "  <tbody>\n",
       "    <tr>\n",
       "      <th>202105021001</th>\n",
       "      <td>2018100892</td>\n",
       "    </tr>\n",
       "    <tr>\n",
       "      <th>202105021001</th>\n",
       "      <td>2018101711</td>\n",
       "    </tr>\n",
       "    <tr>\n",
       "      <th>202105021001</th>\n",
       "      <td>2018106433</td>\n",
       "    </tr>\n",
       "    <tr>\n",
       "      <th>202105021001</th>\n",
       "      <td>2018105603</td>\n",
       "    </tr>\n",
       "    <tr>\n",
       "      <th>202105021001</th>\n",
       "      <td>2018100168</td>\n",
       "    </tr>\n",
       "    <tr>\n",
       "      <th>...</th>\n",
       "      <td>...</td>\n",
       "    </tr>\n",
       "    <tr>\n",
       "      <th>202104020612</th>\n",
       "      <td>2016101560</td>\n",
       "    </tr>\n",
       "    <tr>\n",
       "      <th>202104020612</th>\n",
       "      <td>2016103900</td>\n",
       "    </tr>\n",
       "    <tr>\n",
       "      <th>202104020612</th>\n",
       "      <td>2016101264</td>\n",
       "    </tr>\n",
       "    <tr>\n",
       "      <th>202104020612</th>\n",
       "      <td>2017101363</td>\n",
       "    </tr>\n",
       "    <tr>\n",
       "      <th>202104020612</th>\n",
       "      <td>2017102234</td>\n",
       "    </tr>\n",
       "  </tbody>\n",
       "</table>\n",
       "<p>523 rows × 1 columns</p>\n",
       "</div>"
      ],
      "text/plain": [
       "                       0\n",
       "202105021001  2018100892\n",
       "202105021001  2018101711\n",
       "202105021001  2018106433\n",
       "202105021001  2018105603\n",
       "202105021001  2018100168\n",
       "...                  ...\n",
       "202104020612  2016101560\n",
       "202104020612  2016103900\n",
       "202104020612  2016101264\n",
       "202104020612  2017101363\n",
       "202104020612  2017102234\n",
       "\n",
       "[523 rows x 1 columns]"
      ]
     },
     "execution_count": 6,
     "metadata": {},
     "output_type": "execute_result"
    }
   ],
   "source": [
    "syutuba_list"
   ]
  },
  {
   "cell_type": "markdown",
   "id": "historical-swift",
   "metadata": {},
   "source": [
    "# 各馬成績スクレイピング　＆　展開バイアス算出"
   ]
  },
  {
   "cell_type": "code",
   "execution_count": 7,
   "id": "secondary-constant",
   "metadata": {},
   "outputs": [
    {
     "name": "stdout",
     "output_type": "stream",
     "text": [
      "202105021001取得中・・・\n"
     ]
    },
    {
     "data": {
      "application/vnd.jupyter.widget-view+json": {
       "model_id": "06d7bb7fadc4446fb725ca37982b897b",
       "version_major": 2,
       "version_minor": 0
      },
      "text/plain": [
       "  0%|          | 0/16 [00:00<?, ?it/s]"
      ]
     },
     "metadata": {},
     "output_type": "display_data"
    },
    {
     "name": "stdout",
     "output_type": "stream",
     "text": [
      "カウント完了2.0\n",
      "202105021002取得中・・・\n"
     ]
    },
    {
     "data": {
      "application/vnd.jupyter.widget-view+json": {
       "model_id": "dcae33888035464ba8142b991ceaceb9",
       "version_major": 2,
       "version_minor": 0
      },
      "text/plain": [
       "  0%|          | 0/16 [00:00<?, ?it/s]"
      ]
     },
     "metadata": {},
     "output_type": "display_data"
    },
    {
     "name": "stdout",
     "output_type": "stream",
     "text": [
      "カウント完了5.0\n",
      "202105021003取得中・・・\n"
     ]
    },
    {
     "data": {
      "application/vnd.jupyter.widget-view+json": {
       "model_id": "f0db0ec6484740069f99afe85a1ef566",
       "version_major": 2,
       "version_minor": 0
      },
      "text/plain": [
       "  0%|          | 0/18 [00:00<?, ?it/s]"
      ]
     },
     "metadata": {},
     "output_type": "display_data"
    },
    {
     "name": "stdout",
     "output_type": "stream",
     "text": [
      "カウント完了8.5\n",
      "202105021004取得中・・・\n"
     ]
    },
    {
     "data": {
      "application/vnd.jupyter.widget-view+json": {
       "model_id": "3dae921e171a48cabd1309794c4243fd",
       "version_major": 2,
       "version_minor": 0
      },
      "text/plain": [
       "  0%|          | 0/14 [00:00<?, ?it/s]"
      ]
     },
     "metadata": {},
     "output_type": "display_data"
    },
    {
     "name": "stdout",
     "output_type": "stream",
     "text": [
      "カウント完了2.0\n",
      "202105021005取得中・・・\n"
     ]
    },
    {
     "data": {
      "application/vnd.jupyter.widget-view+json": {
       "model_id": "097cc92bace54c01a83f69494e16befe",
       "version_major": 2,
       "version_minor": 0
      },
      "text/plain": [
       "  0%|          | 0/16 [00:00<?, ?it/s]"
      ]
     },
     "metadata": {},
     "output_type": "display_data"
    },
    {
     "name": "stdout",
     "output_type": "stream",
     "text": [
      "カウント完了6.0\n",
      "202105021006取得中・・・\n"
     ]
    },
    {
     "data": {
      "application/vnd.jupyter.widget-view+json": {
       "model_id": "9f97d54e8d4840338da55f806cfa0350",
       "version_major": 2,
       "version_minor": 0
      },
      "text/plain": [
       "  0%|          | 0/13 [00:00<?, ?it/s]"
      ]
     },
     "metadata": {},
     "output_type": "display_data"
    },
    {
     "name": "stdout",
     "output_type": "stream",
     "text": [
      "カウント完了4.0\n",
      "202105021007取得中・・・\n"
     ]
    },
    {
     "data": {
      "application/vnd.jupyter.widget-view+json": {
       "model_id": "69da11a589934aae80b753ad016709f3",
       "version_major": 2,
       "version_minor": 0
      },
      "text/plain": [
       "  0%|          | 0/14 [00:00<?, ?it/s]"
      ]
     },
     "metadata": {},
     "output_type": "display_data"
    },
    {
     "name": "stdout",
     "output_type": "stream",
     "text": [
      "カウント完了5.5\n",
      "202105021008取得中・・・\n"
     ]
    },
    {
     "data": {
      "application/vnd.jupyter.widget-view+json": {
       "model_id": "bdf4b68de9a4496c97f71e023aac8c04",
       "version_major": 2,
       "version_minor": 0
      },
      "text/plain": [
       "  0%|          | 0/11 [00:00<?, ?it/s]"
      ]
     },
     "metadata": {},
     "output_type": "display_data"
    },
    {
     "name": "stdout",
     "output_type": "stream",
     "text": [
      "カウント完了2.5\n",
      "202105021009取得中・・・\n"
     ]
    },
    {
     "data": {
      "application/vnd.jupyter.widget-view+json": {
       "model_id": "25b6f88d8d224831a7f8ac383fc16232",
       "version_major": 2,
       "version_minor": 0
      },
      "text/plain": [
       "  0%|          | 0/10 [00:00<?, ?it/s]"
      ]
     },
     "metadata": {},
     "output_type": "display_data"
    },
    {
     "name": "stdout",
     "output_type": "stream",
     "text": [
      "カウント完了4.5\n",
      "202105021010取得中・・・\n"
     ]
    },
    {
     "data": {
      "application/vnd.jupyter.widget-view+json": {
       "model_id": "090e1e93572a4efc8cfc89bffde5241a",
       "version_major": 2,
       "version_minor": 0
      },
      "text/plain": [
       "  0%|          | 0/18 [00:00<?, ?it/s]"
      ]
     },
     "metadata": {},
     "output_type": "display_data"
    },
    {
     "name": "stdout",
     "output_type": "stream",
     "text": [
      "カウント完了5.5\n",
      "202105021011取得中・・・\n"
     ]
    },
    {
     "data": {
      "application/vnd.jupyter.widget-view+json": {
       "model_id": "7de753313fa04c11a0907c3f1414c21a",
       "version_major": 2,
       "version_minor": 0
      },
      "text/plain": [
       "  0%|          | 0/18 [00:00<?, ?it/s]"
      ]
     },
     "metadata": {},
     "output_type": "display_data"
    },
    {
     "name": "stdout",
     "output_type": "stream",
     "text": [
      "カウント完了2.5\n",
      "202105021012取得中・・・\n"
     ]
    },
    {
     "data": {
      "application/vnd.jupyter.widget-view+json": {
       "model_id": "5fa4df2cc5544e428931e99ac157006f",
       "version_major": 2,
       "version_minor": 0
      },
      "text/plain": [
       "  0%|          | 0/16 [00:00<?, ?it/s]"
      ]
     },
     "metadata": {},
     "output_type": "display_data"
    },
    {
     "name": "stdout",
     "output_type": "stream",
     "text": [
      "カウント完了4.5\n",
      "202107030601取得中・・・\n"
     ]
    },
    {
     "data": {
      "application/vnd.jupyter.widget-view+json": {
       "model_id": "e9e00d68032341e18bd0be415bd55086",
       "version_major": 2,
       "version_minor": 0
      },
      "text/plain": [
       "  0%|          | 0/16 [00:00<?, ?it/s]"
      ]
     },
     "metadata": {},
     "output_type": "display_data"
    },
    {
     "name": "stdout",
     "output_type": "stream",
     "text": [
      "カウント完了3.0\n",
      "202107030602取得中・・・\n"
     ]
    },
    {
     "data": {
      "application/vnd.jupyter.widget-view+json": {
       "model_id": "7cf6aa42fcfd47478ca3a3470f407edf",
       "version_major": 2,
       "version_minor": 0
      },
      "text/plain": [
       "  0%|          | 0/16 [00:00<?, ?it/s]"
      ]
     },
     "metadata": {},
     "output_type": "display_data"
    },
    {
     "name": "stdout",
     "output_type": "stream",
     "text": [
      "カウント完了8.5\n",
      "202107030603取得中・・・\n"
     ]
    },
    {
     "data": {
      "application/vnd.jupyter.widget-view+json": {
       "model_id": "4deebef1e408413a93097244435627c9",
       "version_major": 2,
       "version_minor": 0
      },
      "text/plain": [
       "  0%|          | 0/16 [00:00<?, ?it/s]"
      ]
     },
     "metadata": {},
     "output_type": "display_data"
    },
    {
     "name": "stdout",
     "output_type": "stream",
     "text": [
      "カウント完了5.5\n",
      "202107030604取得中・・・\n"
     ]
    },
    {
     "data": {
      "application/vnd.jupyter.widget-view+json": {
       "model_id": "4c5769f6c2f8429f86d0ca9644fd7bb7",
       "version_major": 2,
       "version_minor": 0
      },
      "text/plain": [
       "  0%|          | 0/16 [00:00<?, ?it/s]"
      ]
     },
     "metadata": {},
     "output_type": "display_data"
    },
    {
     "name": "stdout",
     "output_type": "stream",
     "text": [
      "カウント完了3.5\n",
      "202107030605取得中・・・\n"
     ]
    },
    {
     "data": {
      "application/vnd.jupyter.widget-view+json": {
       "model_id": "5714de0f6cb84040bbf4ac1482755349",
       "version_major": 2,
       "version_minor": 0
      },
      "text/plain": [
       "  0%|          | 0/15 [00:00<?, ?it/s]"
      ]
     },
     "metadata": {},
     "output_type": "display_data"
    },
    {
     "name": "stdout",
     "output_type": "stream",
     "text": [
      "カウント完了0.5\n",
      "202107030606取得中・・・\n"
     ]
    },
    {
     "data": {
      "application/vnd.jupyter.widget-view+json": {
       "model_id": "4901ab4c6a004efd8a403c0ab3a51856",
       "version_major": 2,
       "version_minor": 0
      },
      "text/plain": [
       "  0%|          | 0/8 [00:00<?, ?it/s]"
      ]
     },
     "metadata": {},
     "output_type": "display_data"
    },
    {
     "name": "stdout",
     "output_type": "stream",
     "text": [
      "カウント完了5.0\n",
      "202107030607取得中・・・\n"
     ]
    },
    {
     "data": {
      "application/vnd.jupyter.widget-view+json": {
       "model_id": "4628a746850643e8916d990c8244a660",
       "version_major": 2,
       "version_minor": 0
      },
      "text/plain": [
       "  0%|          | 0/14 [00:00<?, ?it/s]"
      ]
     },
     "metadata": {},
     "output_type": "display_data"
    },
    {
     "name": "stdout",
     "output_type": "stream",
     "text": [
      "カウント完了3.5\n",
      "202107030608取得中・・・\n"
     ]
    },
    {
     "data": {
      "application/vnd.jupyter.widget-view+json": {
       "model_id": "d4ac581cc50a49f3a49fce18a4f0f650",
       "version_major": 2,
       "version_minor": 0
      },
      "text/plain": [
       "  0%|          | 0/13 [00:00<?, ?it/s]"
      ]
     },
     "metadata": {},
     "output_type": "display_data"
    },
    {
     "name": "stdout",
     "output_type": "stream",
     "text": [
      "カウント完了3.5\n",
      "202107030609取得中・・・\n"
     ]
    },
    {
     "data": {
      "application/vnd.jupyter.widget-view+json": {
       "model_id": "463649e2763d4f9e9b06c631e32982af",
       "version_major": 2,
       "version_minor": 0
      },
      "text/plain": [
       "  0%|          | 0/12 [00:00<?, ?it/s]"
      ]
     },
     "metadata": {},
     "output_type": "display_data"
    },
    {
     "name": "stdout",
     "output_type": "stream",
     "text": [
      "カウント完了7.0\n",
      "202107030610取得中・・・\n"
     ]
    },
    {
     "data": {
      "application/vnd.jupyter.widget-view+json": {
       "model_id": "91c87c4d3be442519c572de82b0b69aa",
       "version_major": 2,
       "version_minor": 0
      },
      "text/plain": [
       "  0%|          | 0/12 [00:00<?, ?it/s]"
      ]
     },
     "metadata": {},
     "output_type": "display_data"
    },
    {
     "name": "stdout",
     "output_type": "stream",
     "text": [
      "カウント完了7.0\n",
      "202107030611取得中・・・\n"
     ]
    },
    {
     "data": {
      "application/vnd.jupyter.widget-view+json": {
       "model_id": "5d57da4b88ef44fea74fb4c770bcd10d",
       "version_major": 2,
       "version_minor": 0
      },
      "text/plain": [
       "  0%|          | 0/16 [00:00<?, ?it/s]"
      ]
     },
     "metadata": {},
     "output_type": "display_data"
    },
    {
     "name": "stdout",
     "output_type": "stream",
     "text": [
      "カウント完了4.0\n",
      "202107030612取得中・・・\n"
     ]
    },
    {
     "data": {
      "application/vnd.jupyter.widget-view+json": {
       "model_id": "77587c596bc14751b8987c8396d90b4e",
       "version_major": 2,
       "version_minor": 0
      },
      "text/plain": [
       "  0%|          | 0/12 [00:00<?, ?it/s]"
      ]
     },
     "metadata": {},
     "output_type": "display_data"
    },
    {
     "name": "stdout",
     "output_type": "stream",
     "text": [
      "カウント完了4.0\n",
      "202104020601取得中・・・\n"
     ]
    },
    {
     "data": {
      "application/vnd.jupyter.widget-view+json": {
       "model_id": "5430ee358e2b4122ba677219e0fa5820",
       "version_major": 2,
       "version_minor": 0
      },
      "text/plain": [
       "  0%|          | 0/15 [00:00<?, ?it/s]"
      ]
     },
     "metadata": {},
     "output_type": "display_data"
    },
    {
     "name": "stdout",
     "output_type": "stream",
     "text": [
      "カウント完了4.5\n",
      "202104020602取得中・・・\n"
     ]
    },
    {
     "data": {
      "application/vnd.jupyter.widget-view+json": {
       "model_id": "0d44d10ef8554cc4b939704822c1e2de",
       "version_major": 2,
       "version_minor": 0
      },
      "text/plain": [
       "  0%|          | 0/15 [00:00<?, ?it/s]"
      ]
     },
     "metadata": {},
     "output_type": "display_data"
    },
    {
     "name": "stdout",
     "output_type": "stream",
     "text": [
      "カウント完了4.5\n",
      "202104020603取得中・・・\n"
     ]
    },
    {
     "data": {
      "application/vnd.jupyter.widget-view+json": {
       "model_id": "8c0c8c84f83242b1b0c61fc03fed103a",
       "version_major": 2,
       "version_minor": 0
      },
      "text/plain": [
       "  0%|          | 0/13 [00:00<?, ?it/s]"
      ]
     },
     "metadata": {},
     "output_type": "display_data"
    },
    {
     "name": "stdout",
     "output_type": "stream",
     "text": [
      "カウント完了3.0\n",
      "202104020604取得中・・・\n"
     ]
    },
    {
     "data": {
      "application/vnd.jupyter.widget-view+json": {
       "model_id": "ef972ff1099d49c9a2ae267b8156aed0",
       "version_major": 2,
       "version_minor": 0
      },
      "text/plain": [
       "  0%|          | 0/14 [00:00<?, ?it/s]"
      ]
     },
     "metadata": {},
     "output_type": "display_data"
    },
    {
     "name": "stdout",
     "output_type": "stream",
     "text": [
      "カウント完了4.5\n",
      "202104020605取得中・・・\n"
     ]
    },
    {
     "data": {
      "application/vnd.jupyter.widget-view+json": {
       "model_id": "79f9ad2b633b4d20a79f9386aaaaa04e",
       "version_major": 2,
       "version_minor": 0
      },
      "text/plain": [
       "  0%|          | 0/15 [00:00<?, ?it/s]"
      ]
     },
     "metadata": {},
     "output_type": "display_data"
    },
    {
     "name": "stdout",
     "output_type": "stream",
     "text": [
      "カウント完了5.0\n",
      "202104020606取得中・・・\n"
     ]
    },
    {
     "data": {
      "application/vnd.jupyter.widget-view+json": {
       "model_id": "a2a7871ee994409a88687b7b48c6dbf7",
       "version_major": 2,
       "version_minor": 0
      },
      "text/plain": [
       "  0%|          | 0/16 [00:00<?, ?it/s]"
      ]
     },
     "metadata": {},
     "output_type": "display_data"
    },
    {
     "name": "stdout",
     "output_type": "stream",
     "text": [
      "カウント完了3.5\n",
      "202104020607取得中・・・\n"
     ]
    },
    {
     "data": {
      "application/vnd.jupyter.widget-view+json": {
       "model_id": "e37dbe2c82ec4914b4df0efcbdc4a046",
       "version_major": 2,
       "version_minor": 0
      },
      "text/plain": [
       "  0%|          | 0/15 [00:00<?, ?it/s]"
      ]
     },
     "metadata": {},
     "output_type": "display_data"
    },
    {
     "name": "stdout",
     "output_type": "stream",
     "text": [
      "カウント完了7.5\n",
      "202104020608取得中・・・\n"
     ]
    },
    {
     "data": {
      "application/vnd.jupyter.widget-view+json": {
       "model_id": "55c6c96c47ba4ba895ae6d8e768fa437",
       "version_major": 2,
       "version_minor": 0
      },
      "text/plain": [
       "  0%|          | 0/14 [00:00<?, ?it/s]"
      ]
     },
     "metadata": {},
     "output_type": "display_data"
    },
    {
     "name": "stdout",
     "output_type": "stream",
     "text": [
      "カウント完了4.0\n",
      "202104020609取得中・・・\n"
     ]
    },
    {
     "data": {
      "application/vnd.jupyter.widget-view+json": {
       "model_id": "ee6cb8010f0a475881bbd17406f2b7e8",
       "version_major": 2,
       "version_minor": 0
      },
      "text/plain": [
       "  0%|          | 0/14 [00:00<?, ?it/s]"
      ]
     },
     "metadata": {},
     "output_type": "display_data"
    },
    {
     "name": "stdout",
     "output_type": "stream",
     "text": [
      "カウント完了5.0\n",
      "202104020610取得中・・・\n"
     ]
    },
    {
     "data": {
      "application/vnd.jupyter.widget-view+json": {
       "model_id": "cdb72daefa0840c39d22dbec583279c2",
       "version_major": 2,
       "version_minor": 0
      },
      "text/plain": [
       "  0%|          | 0/15 [00:00<?, ?it/s]"
      ]
     },
     "metadata": {},
     "output_type": "display_data"
    },
    {
     "name": "stdout",
     "output_type": "stream",
     "text": [
      "カウント完了5.0\n",
      "202104020611取得中・・・\n"
     ]
    },
    {
     "data": {
      "application/vnd.jupyter.widget-view+json": {
       "model_id": "2523c8c6b26a41f2844d5029aaf0032d",
       "version_major": 2,
       "version_minor": 0
      },
      "text/plain": [
       "  0%|          | 0/16 [00:00<?, ?it/s]"
      ]
     },
     "metadata": {},
     "output_type": "display_data"
    },
    {
     "name": "stdout",
     "output_type": "stream",
     "text": [
      "カウント完了6.0\n",
      "202104020612取得中・・・\n"
     ]
    },
    {
     "data": {
      "application/vnd.jupyter.widget-view+json": {
       "model_id": "bee5aa6b6bf64ae88965ed0855328708",
       "version_major": 2,
       "version_minor": 0
      },
      "text/plain": [
       "  0%|          | 0/15 [00:00<?, ?it/s]"
      ]
     },
     "metadata": {},
     "output_type": "display_data"
    },
    {
     "name": "stdout",
     "output_type": "stream",
     "text": [
      "カウント完了6.5\n"
     ]
    }
   ],
   "source": [
    "placeonbiases = []\n",
    "for race_id in race_id_list:\n",
    "    s_race =  syutuba_list.loc[race_id]\n",
    "    placecnt = 0.0\n",
    "    horse_id_list = []\n",
    "    for ds,row in s_race.iterrows():\n",
    "        horse_id_list.append(row[0])\n",
    "    \n",
    "    # 展開バイアス算出\n",
    "    print(race_id + '取得中・・・')\n",
    "    placecnt = scrape_horse(horse_id_list)\n",
    "    print('カウント完了' + str(placecnt))\n",
    "    if placecnt > 5:\n",
    "        placeonbiases.append([race_id,placecnt,'×'])        \n",
    "    else:\n",
    "        placeonbiases.append([race_id,placecnt,'〇'])        "
   ]
  },
  {
   "cell_type": "code",
   "execution_count": 8,
   "id": "corporate-raise",
   "metadata": {},
   "outputs": [
    {
     "data": {
      "text/plain": [
       "[['202105021001', 2.0, '〇'],\n",
       " ['202105021002', 5.0, '〇'],\n",
       " ['202105021003', 8.5, '×'],\n",
       " ['202105021004', 2.0, '〇'],\n",
       " ['202105021005', 6.0, '×'],\n",
       " ['202105021006', 4.0, '〇'],\n",
       " ['202105021007', 5.5, '×'],\n",
       " ['202105021008', 2.5, '〇'],\n",
       " ['202105021009', 4.5, '〇'],\n",
       " ['202105021010', 5.5, '×'],\n",
       " ['202105021011', 2.5, '〇'],\n",
       " ['202105021012', 4.5, '〇'],\n",
       " ['202107030601', 3.0, '〇'],\n",
       " ['202107030602', 8.5, '×'],\n",
       " ['202107030603', 5.5, '×'],\n",
       " ['202107030604', 3.5, '〇'],\n",
       " ['202107030605', 0.5, '〇'],\n",
       " ['202107030606', 5.0, '〇'],\n",
       " ['202107030607', 3.5, '〇'],\n",
       " ['202107030608', 3.5, '〇'],\n",
       " ['202107030609', 7.0, '×'],\n",
       " ['202107030610', 7.0, '×'],\n",
       " ['202107030611', 4.0, '〇'],\n",
       " ['202107030612', 4.0, '〇'],\n",
       " ['202104020601', 4.5, '〇'],\n",
       " ['202104020602', 4.5, '〇'],\n",
       " ['202104020603', 3.0, '〇'],\n",
       " ['202104020604', 4.5, '〇'],\n",
       " ['202104020605', 5.0, '〇'],\n",
       " ['202104020606', 3.5, '〇'],\n",
       " ['202104020607', 7.5, '×'],\n",
       " ['202104020608', 4.0, '〇'],\n",
       " ['202104020609', 5.0, '〇'],\n",
       " ['202104020610', 5.0, '〇'],\n",
       " ['202104020611', 6.0, '×'],\n",
       " ['202104020612', 6.5, '×']]"
      ]
     },
     "execution_count": 8,
     "metadata": {},
     "output_type": "execute_result"
    }
   ],
   "source": [
    "placeonbiases"
   ]
  },
  {
   "cell_type": "markdown",
   "id": "comprehensive-domain",
   "metadata": {},
   "source": [
    "# 日本語化"
   ]
  },
  {
   "cell_type": "code",
   "execution_count": 9,
   "id": "fancy-treat",
   "metadata": {},
   "outputs": [
    {
     "name": "stdout",
     "output_type": "stream",
     "text": [
      "中京 03回 06日目 05レース 展開バイアス発生：カウント0.5\n",
      "東京 02回 10日目 01レース 展開バイアス発生：カウント2.0\n",
      "東京 02回 10日目 04レース 展開バイアス発生：カウント2.0\n",
      "東京 02回 10日目 08レース 展開バイアス発生：カウント2.5\n",
      "東京 02回 10日目 11レース 展開バイアス発生：カウント2.5\n",
      "中京 03回 06日目 01レース 展開バイアス発生：カウント3.0\n",
      "新潟 02回 06日目 03レース 展開バイアス発生：カウント3.0\n",
      "中京 03回 06日目 04レース 展開バイアス発生：カウント3.5\n",
      "中京 03回 06日目 07レース 展開バイアス発生：カウント3.5\n",
      "中京 03回 06日目 08レース 展開バイアス発生：カウント3.5\n",
      "新潟 02回 06日目 06レース 展開バイアス発生：カウント3.5\n",
      "東京 02回 10日目 06レース 展開バイアス発生：カウント4.0\n",
      "中京 03回 06日目 11レース 展開バイアス発生：カウント4.0\n",
      "中京 03回 06日目 12レース 展開バイアス発生：カウント4.0\n",
      "新潟 02回 06日目 08レース 展開バイアス発生：カウント4.0\n",
      "東京 02回 10日目 09レース 展開バイアス発生：カウント4.5\n",
      "東京 02回 10日目 12レース 展開バイアス発生：カウント4.5\n",
      "新潟 02回 06日目 01レース 展開バイアス発生：カウント4.5\n",
      "新潟 02回 06日目 02レース 展開バイアス発生：カウント4.5\n",
      "新潟 02回 06日目 04レース 展開バイアス発生：カウント4.5\n",
      "東京 02回 10日目 02レース 展開バイアス発生：カウント5.0\n",
      "中京 03回 06日目 06レース 展開バイアス発生：カウント5.0\n",
      "新潟 02回 06日目 05レース 展開バイアス発生：カウント5.0\n",
      "新潟 02回 06日目 09レース 展開バイアス発生：カウント5.0\n",
      "新潟 02回 06日目 10レース 展開バイアス発生：カウント5.0\n",
      "東京 02回 10日目 07レース 展開バイアスなし\n",
      "東京 02回 10日目 10レース 展開バイアスなし\n",
      "中京 03回 06日目 03レース 展開バイアスなし\n",
      "東京 02回 10日目 05レース 展開バイアスなし\n",
      "新潟 02回 06日目 11レース 展開バイアスなし\n",
      "新潟 02回 06日目 12レース 展開バイアスなし\n",
      "中京 03回 06日目 09レース 展開バイアスなし\n",
      "中京 03回 06日目 10レース 展開バイアスなし\n",
      "新潟 02回 06日目 07レース 展開バイアスなし\n",
      "東京 02回 10日目 03レース 展開バイアスなし\n",
      "中京 03回 06日目 02レース 展開バイアスなし\n"
     ]
    }
   ],
   "source": [
    "course_dict = {'01':'札幌','02':'函館','03':'福島','04':'新潟','05':'東京','06':'中山','07':'中京','08':'京都','09':'阪神','10':'小倉'}\n",
    "sortlist = sorted(placeonbiases, key=lambda x: x[1])\n",
    "for placeonbias in sortlist:\n",
    "    rindex = placeonbias[0]\n",
    "    if placeonbias[1] > 5:\n",
    "        print(course_dict[rindex[4:6]] + ' ' + rindex[6:8] + '回 ' + rindex[8:10] + '日目 ' + rindex[-2:] + 'レース ' + '展開バイアスなし')\n",
    "    else:\n",
    "        print(course_dict[rindex[4:6]] + ' ' + rindex[6:8] + '回 ' + rindex[8:10] + '日目 ' + rindex[-2:] + 'レース ' + '展開バイアス発生：カウント' + str(placeonbias[1]))\n",
    "    "
   ]
  },
  {
   "cell_type": "code",
   "execution_count": null,
   "id": "appreciated-texas",
   "metadata": {},
   "outputs": [],
   "source": []
  }
 ],
 "metadata": {
  "kernelspec": {
   "display_name": "Python 3",
   "language": "python",
   "name": "python3"
  },
  "language_info": {
   "codemirror_mode": {
    "name": "ipython",
    "version": 3
   },
   "file_extension": ".py",
   "mimetype": "text/x-python",
   "name": "python",
   "nbconvert_exporter": "python",
   "pygments_lexer": "ipython3",
   "version": "3.7.6"
  }
 },
 "nbformat": 4,
 "nbformat_minor": 5
}
